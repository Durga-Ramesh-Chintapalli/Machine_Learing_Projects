{
 "cells": [
  {
   "cell_type": "code",
   "execution_count": 8,
   "id": "2f78db16",
   "metadata": {},
   "outputs": [],
   "source": [
    "import numpy as np\n",
    "import pandas as pd\n",
    "import seaborn as sns\n",
    "import matplotlib.pyplot as plt"
   ]
  },
  {
   "cell_type": "code",
   "execution_count": 9,
   "id": "56450448",
   "metadata": {},
   "outputs": [],
   "source": [
    "data = pd.read_csv('Testing_set_advance.csv')"
   ]
  },
  {
   "cell_type": "code",
   "execution_count": 10,
   "id": "9e4a397f",
   "metadata": {},
   "outputs": [
    {
     "data": {
      "text/html": [
       "<div>\n",
       "<style scoped>\n",
       "    .dataframe tbody tr th:only-of-type {\n",
       "        vertical-align: middle;\n",
       "    }\n",
       "\n",
       "    .dataframe tbody tr th {\n",
       "        vertical-align: top;\n",
       "    }\n",
       "\n",
       "    .dataframe thead th {\n",
       "        text-align: right;\n",
       "    }\n",
       "</style>\n",
       "<table border=\"1\" class=\"dataframe\">\n",
       "  <thead>\n",
       "    <tr style=\"text-align: right;\">\n",
       "      <th></th>\n",
       "      <th>ID_Patient_Care_Situation</th>\n",
       "      <th>Diagnosed_Condition</th>\n",
       "      <th>Patient_ID</th>\n",
       "      <th>Treated_with_drugs</th>\n",
       "      <th>Patient_Age</th>\n",
       "      <th>Patient_Body_Mass_Index</th>\n",
       "      <th>Patient_Smoker</th>\n",
       "      <th>Patient_Rural_Urban</th>\n",
       "      <th>Patient_mental_condition</th>\n",
       "      <th>A</th>\n",
       "      <th>B</th>\n",
       "      <th>C</th>\n",
       "      <th>D</th>\n",
       "      <th>E</th>\n",
       "      <th>F</th>\n",
       "      <th>Z</th>\n",
       "      <th>Number_of_prev_cond</th>\n",
       "    </tr>\n",
       "  </thead>\n",
       "  <tbody>\n",
       "    <tr>\n",
       "      <th>0</th>\n",
       "      <td>24206</td>\n",
       "      <td>35</td>\n",
       "      <td>4640</td>\n",
       "      <td>DX5</td>\n",
       "      <td>65</td>\n",
       "      <td>20.710365</td>\n",
       "      <td>NO</td>\n",
       "      <td>RURAL</td>\n",
       "      <td>Stable</td>\n",
       "      <td>1</td>\n",
       "      <td>0</td>\n",
       "      <td>0</td>\n",
       "      <td>0</td>\n",
       "      <td>1</td>\n",
       "      <td>0</td>\n",
       "      <td>0</td>\n",
       "      <td>2</td>\n",
       "    </tr>\n",
       "    <tr>\n",
       "      <th>1</th>\n",
       "      <td>32827</td>\n",
       "      <td>30</td>\n",
       "      <td>3214</td>\n",
       "      <td>dx1</td>\n",
       "      <td>2</td>\n",
       "      <td>24.250219</td>\n",
       "      <td>NO</td>\n",
       "      <td>URBAN</td>\n",
       "      <td>Stable</td>\n",
       "      <td>1</td>\n",
       "      <td>0</td>\n",
       "      <td>0</td>\n",
       "      <td>0</td>\n",
       "      <td>1</td>\n",
       "      <td>0</td>\n",
       "      <td>0</td>\n",
       "      <td>2</td>\n",
       "    </tr>\n",
       "    <tr>\n",
       "      <th>2</th>\n",
       "      <td>3694</td>\n",
       "      <td>46</td>\n",
       "      <td>3564</td>\n",
       "      <td>dx6</td>\n",
       "      <td>1</td>\n",
       "      <td>27.139276</td>\n",
       "      <td>NO</td>\n",
       "      <td>URBAN</td>\n",
       "      <td>Stable</td>\n",
       "      <td>1</td>\n",
       "      <td>0</td>\n",
       "      <td>0</td>\n",
       "      <td>0</td>\n",
       "      <td>0</td>\n",
       "      <td>0</td>\n",
       "      <td>0</td>\n",
       "      <td>1</td>\n",
       "    </tr>\n",
       "    <tr>\n",
       "      <th>3</th>\n",
       "      <td>7164</td>\n",
       "      <td>44</td>\n",
       "      <td>5176</td>\n",
       "      <td>DX1</td>\n",
       "      <td>29</td>\n",
       "      <td>29.191759</td>\n",
       "      <td>NO</td>\n",
       "      <td>RURAL</td>\n",
       "      <td>Stable</td>\n",
       "      <td>0</td>\n",
       "      <td>0</td>\n",
       "      <td>1</td>\n",
       "      <td>0</td>\n",
       "      <td>1</td>\n",
       "      <td>0</td>\n",
       "      <td>0</td>\n",
       "      <td>2</td>\n",
       "    </tr>\n",
       "    <tr>\n",
       "      <th>4</th>\n",
       "      <td>1259</td>\n",
       "      <td>30</td>\n",
       "      <td>1101</td>\n",
       "      <td>DX5</td>\n",
       "      <td>51</td>\n",
       "      <td>20.844146</td>\n",
       "      <td>NO</td>\n",
       "      <td>URBAN</td>\n",
       "      <td>Stable</td>\n",
       "      <td>0</td>\n",
       "      <td>0</td>\n",
       "      <td>0</td>\n",
       "      <td>0</td>\n",
       "      <td>1</td>\n",
       "      <td>0</td>\n",
       "      <td>0</td>\n",
       "      <td>1</td>\n",
       "    </tr>\n",
       "  </tbody>\n",
       "</table>\n",
       "</div>"
      ],
      "text/plain": [
       "   ID_Patient_Care_Situation  Diagnosed_Condition  Patient_ID  \\\n",
       "0                      24206                   35        4640   \n",
       "1                      32827                   30        3214   \n",
       "2                       3694                   46        3564   \n",
       "3                       7164                   44        5176   \n",
       "4                       1259                   30        1101   \n",
       "\n",
       "  Treated_with_drugs  Patient_Age  Patient_Body_Mass_Index Patient_Smoker  \\\n",
       "0               DX5            65                20.710365             NO   \n",
       "1               dx1             2                24.250219            NO    \n",
       "2               dx6             1                27.139276             NO   \n",
       "3               DX1            29                29.191759            NO    \n",
       "4               DX5            51                20.844146             NO   \n",
       "\n",
       "  Patient_Rural_Urban Patient_mental_condition  A  B  C  D  E  F  Z  \\\n",
       "0               RURAL                   Stable  1  0  0  0  1  0  0   \n",
       "1               URBAN                   Stable  1  0  0  0  1  0  0   \n",
       "2               URBAN                   Stable  1  0  0  0  0  0  0   \n",
       "3               RURAL                   Stable  0  0  1  0  1  0  0   \n",
       "4               URBAN                   Stable  0  0  0  0  1  0  0   \n",
       "\n",
       "   Number_of_prev_cond  \n",
       "0                    2  \n",
       "1                    2  \n",
       "2                    1  \n",
       "3                    2  \n",
       "4                    1  "
      ]
     },
     "execution_count": 10,
     "metadata": {},
     "output_type": "execute_result"
    }
   ],
   "source": [
    "data.head()"
   ]
  },
  {
   "cell_type": "code",
   "execution_count": 11,
   "id": "84085a11",
   "metadata": {},
   "outputs": [
    {
     "data": {
      "text/plain": [
       "(9330, 17)"
      ]
     },
     "execution_count": 11,
     "metadata": {},
     "output_type": "execute_result"
    }
   ],
   "source": [
    "data.shape"
   ]
  },
  {
   "cell_type": "code",
   "execution_count": 12,
   "id": "b2c85128",
   "metadata": {},
   "outputs": [
    {
     "data": {
      "text/plain": [
       "ID_Patient_Care_Situation      int64\n",
       "Diagnosed_Condition            int64\n",
       "Patient_ID                     int64\n",
       "Treated_with_drugs            object\n",
       "Patient_Age                    int64\n",
       "Patient_Body_Mass_Index      float64\n",
       "Patient_Smoker                object\n",
       "Patient_Rural_Urban           object\n",
       "Patient_mental_condition      object\n",
       "A                              int64\n",
       "B                              int64\n",
       "C                              int64\n",
       "D                              int64\n",
       "E                              int64\n",
       "F                              int64\n",
       "Z                              int64\n",
       "Number_of_prev_cond            int64\n",
       "dtype: object"
      ]
     },
     "execution_count": 12,
     "metadata": {},
     "output_type": "execute_result"
    }
   ],
   "source": [
    "data.dtypes"
   ]
  },
  {
   "cell_type": "code",
   "execution_count": 13,
   "id": "ef15b981",
   "metadata": {},
   "outputs": [
    {
     "data": {
      "text/plain": [
       "<matplotlib.axes._subplots.AxesSubplot at 0x22afd6860f0>"
      ]
     },
     "execution_count": 13,
     "metadata": {},
     "output_type": "execute_result"
    },
    {
     "data": {
      "image/png": "[encoded data removed]",
      "text/plain": [
       "<Figure size 720x576 with 2 Axes>"
      ]
     },
     "metadata": {
      "needs_background": "light"
     },
     "output_type": "display_data"
    }
   ],
   "source": [
    "plt.figure(figsize=(10,8))\n",
    "sns.heatmap(df.isna().transpose(),\n",
    "            cmap=\"BuPu\",\n",
    "            cbar_kws={'label': 'Missing Data'})\n",
    "#plt.savefig(\"visualizing_missing_data_with_heatmap_Seaborn_Python.png\", dpi=100)"
   ]
  },
  {
   "cell_type": "code",
   "execution_count": 14,
   "id": "aae85730",
   "metadata": {},
   "outputs": [
    {
     "data": {
      "text/plain": [
       "0"
      ]
     },
     "execution_count": 14,
     "metadata": {},
     "output_type": "execute_result"
    }
   ],
   "source": [
    "data['Treated_with_drugs'].isna().sum()"
   ]
  },
  {
   "cell_type": "code",
   "execution_count": 19,
   "id": "f4a2c54f",
   "metadata": {},
   "outputs": [],
   "source": [
    "data.insert(3, \"Drug_DX1\", True) \n",
    "data.insert(4, \"Drug_DX2\", True)\n",
    "data.insert(5, \"Drug_DX3\", True)\n",
    "data.insert(6, \"Drug_DX4\", True)\n",
    "data.insert(7, \"Drug_DX5\", True)\n",
    "data.insert(8, \"Drug_DX6\", True)"
   ]
  },
  {
   "cell_type": "code",
   "execution_count": 20,
   "id": "8987e1eb",
   "metadata": {},
   "outputs": [
    {
     "data": {
      "text/html": [
       "<div>\n",
       "<style scoped>\n",
       "    .dataframe tbody tr th:only-of-type {\n",
       "        vertical-align: middle;\n",
       "    }\n",
       "\n",
       "    .dataframe tbody tr th {\n",
       "        vertical-align: top;\n",
       "    }\n",
       "\n",
       "    .dataframe thead th {\n",
       "        text-align: right;\n",
       "    }\n",
       "</style>\n",
       "<table border=\"1\" class=\"dataframe\">\n",
       "  <thead>\n",
       "    <tr style=\"text-align: right;\">\n",
       "      <th></th>\n",
       "      <th>ID_Patient_Care_Situation</th>\n",
       "      <th>Diagnosed_Condition</th>\n",
       "      <th>Patient_ID</th>\n",
       "      <th>Drug_DX1</th>\n",
       "      <th>Drug_DX2</th>\n",
       "      <th>Drug_DX3</th>\n",
       "      <th>Drug_DX4</th>\n",
       "      <th>Drug_DX5</th>\n",
       "      <th>Drug_DX6</th>\n",
       "      <th>Treated_with_drugs</th>\n",
       "      <th>...</th>\n",
       "      <th>Patient_Rural_Urban</th>\n",
       "      <th>Patient_mental_condition</th>\n",
       "      <th>A</th>\n",
       "      <th>B</th>\n",
       "      <th>C</th>\n",
       "      <th>D</th>\n",
       "      <th>E</th>\n",
       "      <th>F</th>\n",
       "      <th>Z</th>\n",
       "      <th>Number_of_prev_cond</th>\n",
       "    </tr>\n",
       "  </thead>\n",
       "  <tbody>\n",
       "    <tr>\n",
       "      <th>0</th>\n",
       "      <td>24206</td>\n",
       "      <td>35</td>\n",
       "      <td>4640</td>\n",
       "      <td>True</td>\n",
       "      <td>True</td>\n",
       "      <td>True</td>\n",
       "      <td>True</td>\n",
       "      <td>True</td>\n",
       "      <td>True</td>\n",
       "      <td>DX5</td>\n",
       "      <td>...</td>\n",
       "      <td>RURAL</td>\n",
       "      <td>Stable</td>\n",
       "      <td>1</td>\n",
       "      <td>0</td>\n",
       "      <td>0</td>\n",
       "      <td>0</td>\n",
       "      <td>1</td>\n",
       "      <td>0</td>\n",
       "      <td>0</td>\n",
       "      <td>2</td>\n",
       "    </tr>\n",
       "    <tr>\n",
       "      <th>1</th>\n",
       "      <td>32827</td>\n",
       "      <td>30</td>\n",
       "      <td>3214</td>\n",
       "      <td>True</td>\n",
       "      <td>True</td>\n",
       "      <td>True</td>\n",
       "      <td>True</td>\n",
       "      <td>True</td>\n",
       "      <td>True</td>\n",
       "      <td>dx1</td>\n",
       "      <td>...</td>\n",
       "      <td>URBAN</td>\n",
       "      <td>Stable</td>\n",
       "      <td>1</td>\n",
       "      <td>0</td>\n",
       "      <td>0</td>\n",
       "      <td>0</td>\n",
       "      <td>1</td>\n",
       "      <td>0</td>\n",
       "      <td>0</td>\n",
       "      <td>2</td>\n",
       "    </tr>\n",
       "    <tr>\n",
       "      <th>2</th>\n",
       "      <td>3694</td>\n",
       "      <td>46</td>\n",
       "      <td>3564</td>\n",
       "      <td>True</td>\n",
       "      <td>True</td>\n",
       "      <td>True</td>\n",
       "      <td>True</td>\n",
       "      <td>True</td>\n",
       "      <td>True</td>\n",
       "      <td>dx6</td>\n",
       "      <td>...</td>\n",
       "      <td>URBAN</td>\n",
       "      <td>Stable</td>\n",
       "      <td>1</td>\n",
       "      <td>0</td>\n",
       "      <td>0</td>\n",
       "      <td>0</td>\n",
       "      <td>0</td>\n",
       "      <td>0</td>\n",
       "      <td>0</td>\n",
       "      <td>1</td>\n",
       "    </tr>\n",
       "    <tr>\n",
       "      <th>3</th>\n",
       "      <td>7164</td>\n",
       "      <td>44</td>\n",
       "      <td>5176</td>\n",
       "      <td>True</td>\n",
       "      <td>True</td>\n",
       "      <td>True</td>\n",
       "      <td>True</td>\n",
       "      <td>True</td>\n",
       "      <td>True</td>\n",
       "      <td>DX1</td>\n",
       "      <td>...</td>\n",
       "      <td>RURAL</td>\n",
       "      <td>Stable</td>\n",
       "      <td>0</td>\n",
       "      <td>0</td>\n",
       "      <td>1</td>\n",
       "      <td>0</td>\n",
       "      <td>1</td>\n",
       "      <td>0</td>\n",
       "      <td>0</td>\n",
       "      <td>2</td>\n",
       "    </tr>\n",
       "    <tr>\n",
       "      <th>4</th>\n",
       "      <td>1259</td>\n",
       "      <td>30</td>\n",
       "      <td>1101</td>\n",
       "      <td>True</td>\n",
       "      <td>True</td>\n",
       "      <td>True</td>\n",
       "      <td>True</td>\n",
       "      <td>True</td>\n",
       "      <td>True</td>\n",
       "      <td>DX5</td>\n",
       "      <td>...</td>\n",
       "      <td>URBAN</td>\n",
       "      <td>Stable</td>\n",
       "      <td>0</td>\n",
       "      <td>0</td>\n",
       "      <td>0</td>\n",
       "      <td>0</td>\n",
       "      <td>1</td>\n",
       "      <td>0</td>\n",
       "      <td>0</td>\n",
       "      <td>1</td>\n",
       "    </tr>\n",
       "  </tbody>\n",
       "</table>\n",
       "<p>5 rows × 23 columns</p>\n",
       "</div>"
      ],
      "text/plain": [
       "   ID_Patient_Care_Situation  Diagnosed_Condition  Patient_ID  Drug_DX1  \\\n",
       "0                      24206                   35        4640      True   \n",
       "1                      32827                   30        3214      True   \n",
       "2                       3694                   46        3564      True   \n",
       "3                       7164                   44        5176      True   \n",
       "4                       1259                   30        1101      True   \n",
       "\n",
       "   Drug_DX2  Drug_DX3  Drug_DX4  Drug_DX5  Drug_DX6 Treated_with_drugs  ...  \\\n",
       "0      True      True      True      True      True               DX5   ...   \n",
       "1      True      True      True      True      True               dx1   ...   \n",
       "2      True      True      True      True      True               dx6   ...   \n",
       "3      True      True      True      True      True               DX1   ...   \n",
       "4      True      True      True      True      True               DX5   ...   \n",
       "\n",
       "   Patient_Rural_Urban  Patient_mental_condition  A  B  C  D  E  F  Z  \\\n",
       "0                RURAL                    Stable  1  0  0  0  1  0  0   \n",
       "1                URBAN                    Stable  1  0  0  0  1  0  0   \n",
       "2                URBAN                    Stable  1  0  0  0  0  0  0   \n",
       "3                RURAL                    Stable  0  0  1  0  1  0  0   \n",
       "4                URBAN                    Stable  0  0  0  0  1  0  0   \n",
       "\n",
       "   Number_of_prev_cond  \n",
       "0                    2  \n",
       "1                    2  \n",
       "2                    1  \n",
       "3                    2  \n",
       "4                    1  \n",
       "\n",
       "[5 rows x 23 columns]"
      ]
     },
     "execution_count": 20,
     "metadata": {},
     "output_type": "execute_result"
    }
   ],
   "source": [
    "data.head()"
   ]
  },
  {
   "cell_type": "code",
   "execution_count": 21,
   "id": "ca64792d",
   "metadata": {},
   "outputs": [],
   "source": [
    "data.Drug_DX1 = data.Treated_with_drugs.apply(lambda x: 1 if 'DX1' in x.split() else 0)\n",
    "data.Drug_DX2 = data.Treated_with_drugs.apply(lambda x: 1 if 'DX2' in x.split() else 0)\n",
    "data.Drug_DX3 = data.Treated_with_drugs.apply(lambda x: 1 if 'DX3' in x.split() else 0)\n",
    "data.Drug_DX4 = data.Treated_with_drugs.apply(lambda x: 1 if 'DX4' in x.split() else 0)\n",
    "data.Drug_DX5 = data.Treated_with_drugs.apply(lambda x: 1 if 'DX5' in x.split() else 0)\n",
    "data.Drug_DX6 = data.Treated_with_drugs.apply(lambda x: 1 if 'DX6' in x.split() else 0)"
   ]
  },
  {
   "cell_type": "code",
   "execution_count": 22,
   "id": "823eafdd",
   "metadata": {},
   "outputs": [
    {
     "data": {
      "text/plain": [
       "ID_Patient_Care_Situation      int64\n",
       "Diagnosed_Condition            int64\n",
       "Patient_ID                     int64\n",
       "Drug_DX1                       int64\n",
       "Drug_DX2                       int64\n",
       "Drug_DX3                       int64\n",
       "Drug_DX4                       int64\n",
       "Drug_DX5                       int64\n",
       "Drug_DX6                       int64\n",
       "Treated_with_drugs            object\n",
       "Patient_Age                    int64\n",
       "Patient_Body_Mass_Index      float64\n",
       "Patient_Smoker                object\n",
       "Patient_Rural_Urban           object\n",
       "Patient_mental_condition      object\n",
       "A                              int64\n",
       "B                              int64\n",
       "C                              int64\n",
       "D                              int64\n",
       "E                              int64\n",
       "F                              int64\n",
       "Z                              int64\n",
       "Number_of_prev_cond            int64\n",
       "dtype: object"
      ]
     },
     "execution_count": 22,
     "metadata": {},
     "output_type": "execute_result"
    }
   ],
   "source": [
    "data.dtypes"
   ]
  },
  {
   "cell_type": "code",
   "execution_count": 23,
   "id": "02a90c0d",
   "metadata": {},
   "outputs": [],
   "source": [
    "def smoke_to_numeric(x):\n",
    "    if x=='NO':\n",
    "        return 0\n",
    "    elif x=='YES':\n",
    "        return 1\n",
    "    else:\n",
    "        return 2"
   ]
  },
  {
   "cell_type": "code",
   "execution_count": 24,
   "id": "fc13cfa6",
   "metadata": {},
   "outputs": [],
   "source": [
    "data.Patient_Smoker = data.Patient_Smoker.apply(smoke_to_numeric)"
   ]
  },
  {
   "cell_type": "code",
   "execution_count": 25,
   "id": "bd1a0390",
   "metadata": {},
   "outputs": [],
   "source": [
    "def area_to_numeric(x):\n",
    "    if x=='URBAN':\n",
    "        return 1\n",
    "    elif x=='RURAL':\n",
    "        return 0"
   ]
  },
  {
   "cell_type": "code",
   "execution_count": 26,
   "id": "6e929fb5",
   "metadata": {},
   "outputs": [],
   "source": [
    "data.Patient_Rural_Urban = data.Patient_Rural_Urban.apply(area_to_numeric)"
   ]
  },
  {
   "cell_type": "code",
   "execution_count": 27,
   "id": "d1d2b758",
   "metadata": {},
   "outputs": [
    {
     "data": {
      "text/plain": [
       "ID_Patient_Care_Situation      int64\n",
       "Diagnosed_Condition            int64\n",
       "Patient_ID                     int64\n",
       "Drug_DX1                       int64\n",
       "Drug_DX2                       int64\n",
       "Drug_DX3                       int64\n",
       "Drug_DX4                       int64\n",
       "Drug_DX5                       int64\n",
       "Drug_DX6                       int64\n",
       "Treated_with_drugs            object\n",
       "Patient_Age                    int64\n",
       "Patient_Body_Mass_Index      float64\n",
       "Patient_Smoker                 int64\n",
       "Patient_Rural_Urban            int64\n",
       "Patient_mental_condition      object\n",
       "A                              int64\n",
       "B                              int64\n",
       "C                              int64\n",
       "D                              int64\n",
       "E                              int64\n",
       "F                              int64\n",
       "Z                              int64\n",
       "Number_of_prev_cond            int64\n",
       "dtype: object"
      ]
     },
     "execution_count": 27,
     "metadata": {},
     "output_type": "execute_result"
    }
   ],
   "source": [
    "data.dtypes"
   ]
  },
  {
   "cell_type": "code",
   "execution_count": 28,
   "id": "d6ad726c",
   "metadata": {},
   "outputs": [],
   "source": [
    "data['Patient_Body_Mass_Index'] = data['Patient_Body_Mass_Index'].astype(int)"
   ]
  },
  {
   "cell_type": "code",
   "execution_count": 29,
   "id": "9fe0ca65",
   "metadata": {},
   "outputs": [],
   "source": [
    "data['Number_of_prev_cond'] = data['Number_of_prev_cond'].astype(int)"
   ]
  },
  {
   "cell_type": "code",
   "execution_count": 35,
   "id": "3bee7f59",
   "metadata": {},
   "outputs": [],
   "source": [
    "data = data.drop(columns=['Patient_mental_condition'])"
   ]
  },
  {
   "cell_type": "code",
   "execution_count": 37,
   "id": "79084d52",
   "metadata": {},
   "outputs": [],
   "source": [
    "data = data.drop(columns=['Treated_with_drugs'])"
   ]
  },
  {
   "cell_type": "code",
   "execution_count": 38,
   "id": "8bebfe08",
   "metadata": {},
   "outputs": [
    {
     "data": {
      "text/plain": [
       "ID_Patient_Care_Situation    int64\n",
       "Diagnosed_Condition          int64\n",
       "Patient_ID                   int64\n",
       "Drug_DX1                     int64\n",
       "Drug_DX2                     int64\n",
       "Drug_DX3                     int64\n",
       "Drug_DX4                     int64\n",
       "Drug_DX5                     int64\n",
       "Drug_DX6                     int64\n",
       "Patient_Age                  int64\n",
       "Patient_Body_Mass_Index      int32\n",
       "Patient_Smoker               int64\n",
       "Patient_Rural_Urban          int64\n",
       "A                            int64\n",
       "B                            int64\n",
       "C                            int64\n",
       "D                            int64\n",
       "E                            int64\n",
       "F                            int64\n",
       "Z                            int64\n",
       "Number_of_prev_cond          int32\n",
       "dtype: object"
      ]
     },
     "execution_count": 38,
     "metadata": {},
     "output_type": "execute_result"
    }
   ],
   "source": [
    "data.dtypes"
   ]
  },
  {
   "cell_type": "code",
   "execution_count": null,
   "id": "0f7c7be6",
   "metadata": {},
   "outputs": [],
   "source": []
  }
 ],
 "metadata": {
  "kernelspec": {
   "display_name": "Python 3",
   "language": "python",
   "name": "python3"
  },
  "language_info": {
   "codemirror_mode": {
    "name": "ipython",
    "version": 3
   },
   "file_extension": ".py",
   "mimetype": "text/x-python",
   "name": "python",
   "nbconvert_exporter": "python",
   "pygments_lexer": "ipython3",
   "version": "3.6.2"
  }
 },
 "nbformat": 4,
 "nbformat_minor": 5
}
