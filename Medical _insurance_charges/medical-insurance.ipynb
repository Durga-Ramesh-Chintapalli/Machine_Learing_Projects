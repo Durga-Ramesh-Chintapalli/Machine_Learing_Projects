{
 "cells": [
  {
   "cell_type": "markdown",
   "id": "be90e911",
   "metadata": {
    "papermill": {
     "duration": 0.012767,
     "end_time": "2022-12-07T22:25:11.796340",
     "exception": false,
     "start_time": "2022-12-07T22:25:11.783573",
     "status": "completed"
    },
    "tags": []
   },
   "source": [
    "# Import Libraries"
   ]
  },
  {
   "cell_type": "code",
   "execution_count": 1,
   "id": "df6abd00",
   "metadata": {
    "execution": {
     "iopub.execute_input": "2022-12-07T22:25:11.824281Z",
     "iopub.status.busy": "2022-12-07T22:25:11.823788Z",
     "iopub.status.idle": "2022-12-07T22:25:13.210683Z",
     "shell.execute_reply": "2022-12-07T22:25:13.209306Z"
    },
    "papermill": {
     "duration": 1.404249,
     "end_time": "2022-12-07T22:25:13.213582",
     "exception": false,
     "start_time": "2022-12-07T22:25:11.809333",
     "status": "completed"
    },
    "tags": []
   },
   "outputs": [],
   "source": [
    "import numpy as np\n",
    "import pandas as pd\n",
    "import seaborn as sns\n",
    "from sklearn.model_selection import train_test_split\n",
    "from sklearn.preprocessing import LabelEncoder\n",
    "from sklearn.linear_model import LinearRegression\n",
    "from sklearn.ensemble import RandomForestRegressor\n",
    "from sklearn.tree import DecisionTreeRegressor\n",
    "import matplotlib.pyplot as plt\n",
    "from sklearn.metrics import mean_absolute_error \n",
    "from sklearn.metrics import mean_squared_error \n",
    "from sklearn.metrics import median_absolute_error"
   ]
  },
  {
   "cell_type": "markdown",
   "id": "0098d5db",
   "metadata": {
    "papermill": {
     "duration": 0.012441,
     "end_time": "2022-12-07T22:25:13.239792",
     "exception": false,
     "start_time": "2022-12-07T22:25:13.227351",
     "status": "completed"
    },
    "tags": []
   },
   "source": [
    "# Read Data"
   ]
  },
  {
   "cell_type": "code",
   "execution_count": 2,
   "id": "bc9662e2",
   "metadata": {
    "execution": {
     "iopub.execute_input": "2022-12-07T22:25:13.266430Z",
     "iopub.status.busy": "2022-12-07T22:25:13.266095Z",
     "iopub.status.idle": "2022-12-07T22:25:13.303486Z",
     "shell.execute_reply": "2022-12-07T22:25:13.302678Z"
    },
    "papermill": {
     "duration": 0.053651,
     "end_time": "2022-12-07T22:25:13.305856",
     "exception": false,
     "start_time": "2022-12-07T22:25:13.252205",
     "status": "completed"
    },
    "tags": []
   },
   "outputs": [],
   "source": [
    "train_data=pd.read_csv('Train_Data.csv')\n",
    "test_data=pd.read_csv('Test_Data.csv')"
   ]
  },
  {
   "cell_type": "markdown",
   "id": "4ecf0cdc",
   "metadata": {
    "papermill": {
     "duration": 0.012388,
     "end_time": "2022-12-07T22:25:13.331272",
     "exception": false,
     "start_time": "2022-12-07T22:25:13.318884",
     "status": "completed"
    },
    "tags": []
   },
   "source": [
    "# Show 5 frist Row"
   ]
  },
  {
   "cell_type": "code",
   "execution_count": 3,
   "id": "6610b479",
   "metadata": {
    "execution": {
     "iopub.execute_input": "2022-12-07T22:25:13.358387Z",
     "iopub.status.busy": "2022-12-07T22:25:13.357521Z",
     "iopub.status.idle": "2022-12-07T22:25:13.380061Z",
     "shell.execute_reply": "2022-12-07T22:25:13.378932Z"
    },
    "papermill": {
     "duration": 0.038404,
     "end_time": "2022-12-07T22:25:13.382345",
     "exception": false,
     "start_time": "2022-12-07T22:25:13.343941",
     "status": "completed"
    },
    "tags": []
   },
   "outputs": [
    {
     "data": {
      "text/html": [
       "<div>\n",
       "<style scoped>\n",
       "    .dataframe tbody tr th:only-of-type {\n",
       "        vertical-align: middle;\n",
       "    }\n",
       "\n",
       "    .dataframe tbody tr th {\n",
       "        vertical-align: top;\n",
       "    }\n",
       "\n",
       "    .dataframe thead th {\n",
       "        text-align: right;\n",
       "    }\n",
       "</style>\n",
       "<table border=\"1\" class=\"dataframe\">\n",
       "  <thead>\n",
       "    <tr style=\"text-align: right;\">\n",
       "      <th></th>\n",
       "      <th>age</th>\n",
       "      <th>sex</th>\n",
       "      <th>bmi</th>\n",
       "      <th>smoker</th>\n",
       "      <th>region</th>\n",
       "      <th>children</th>\n",
       "      <th>charges</th>\n",
       "    </tr>\n",
       "  </thead>\n",
       "  <tbody>\n",
       "    <tr>\n",
       "      <th>0</th>\n",
       "      <td>21.000000</td>\n",
       "      <td>male</td>\n",
       "      <td>25.745000</td>\n",
       "      <td>no</td>\n",
       "      <td>northeast</td>\n",
       "      <td>2</td>\n",
       "      <td>3279.868550</td>\n",
       "    </tr>\n",
       "    <tr>\n",
       "      <th>1</th>\n",
       "      <td>36.976978</td>\n",
       "      <td>female</td>\n",
       "      <td>25.744165</td>\n",
       "      <td>yes</td>\n",
       "      <td>southeast</td>\n",
       "      <td>3</td>\n",
       "      <td>21454.494239</td>\n",
       "    </tr>\n",
       "    <tr>\n",
       "      <th>2</th>\n",
       "      <td>18.000000</td>\n",
       "      <td>male</td>\n",
       "      <td>30.030000</td>\n",
       "      <td>no</td>\n",
       "      <td>southeast</td>\n",
       "      <td>1</td>\n",
       "      <td>1720.353700</td>\n",
       "    </tr>\n",
       "    <tr>\n",
       "      <th>3</th>\n",
       "      <td>37.000000</td>\n",
       "      <td>male</td>\n",
       "      <td>30.676891</td>\n",
       "      <td>no</td>\n",
       "      <td>northeast</td>\n",
       "      <td>3</td>\n",
       "      <td>6801.437542</td>\n",
       "    </tr>\n",
       "    <tr>\n",
       "      <th>4</th>\n",
       "      <td>58.000000</td>\n",
       "      <td>male</td>\n",
       "      <td>32.010000</td>\n",
       "      <td>no</td>\n",
       "      <td>southeast</td>\n",
       "      <td>1</td>\n",
       "      <td>11946.625900</td>\n",
       "    </tr>\n",
       "  </tbody>\n",
       "</table>\n",
       "</div>"
      ],
      "text/plain": [
       "         age     sex        bmi smoker     region  children       charges\n",
       "0  21.000000    male  25.745000     no  northeast         2   3279.868550\n",
       "1  36.976978  female  25.744165    yes  southeast         3  21454.494239\n",
       "2  18.000000    male  30.030000     no  southeast         1   1720.353700\n",
       "3  37.000000    male  30.676891     no  northeast         3   6801.437542\n",
       "4  58.000000    male  32.010000     no  southeast         1  11946.625900"
      ]
     },
     "execution_count": 3,
     "metadata": {},
     "output_type": "execute_result"
    }
   ],
   "source": [
    "train_data.head()"
   ]
  },
  {
   "cell_type": "markdown",
   "id": "f1d57b73",
   "metadata": {
    "papermill": {
     "duration": 0.012414,
     "end_time": "2022-12-07T22:25:13.407741",
     "exception": false,
     "start_time": "2022-12-07T22:25:13.395327",
     "status": "completed"
    },
    "tags": []
   },
   "source": [
    "# Describe Data"
   ]
  },
  {
   "cell_type": "code",
   "execution_count": 4,
   "id": "d05efb98",
   "metadata": {
    "execution": {
     "iopub.execute_input": "2022-12-07T22:25:13.435349Z",
     "iopub.status.busy": "2022-12-07T22:25:13.434791Z",
     "iopub.status.idle": "2022-12-07T22:25:13.465654Z",
     "shell.execute_reply": "2022-12-07T22:25:13.465042Z"
    },
    "papermill": {
     "duration": 0.046944,
     "end_time": "2022-12-07T22:25:13.467433",
     "exception": false,
     "start_time": "2022-12-07T22:25:13.420489",
     "status": "completed"
    },
    "tags": []
   },
   "outputs": [
    {
     "data": {
      "text/html": [
       "<div>\n",
       "<style scoped>\n",
       "    .dataframe tbody tr th:only-of-type {\n",
       "        vertical-align: middle;\n",
       "    }\n",
       "\n",
       "    .dataframe tbody tr th {\n",
       "        vertical-align: top;\n",
       "    }\n",
       "\n",
       "    .dataframe thead th {\n",
       "        text-align: right;\n",
       "    }\n",
       "</style>\n",
       "<table border=\"1\" class=\"dataframe\">\n",
       "  <thead>\n",
       "    <tr style=\"text-align: right;\">\n",
       "      <th></th>\n",
       "      <th>age</th>\n",
       "      <th>bmi</th>\n",
       "      <th>children</th>\n",
       "      <th>charges</th>\n",
       "    </tr>\n",
       "  </thead>\n",
       "  <tbody>\n",
       "    <tr>\n",
       "      <th>count</th>\n",
       "      <td>3630.000000</td>\n",
       "      <td>3630.000000</td>\n",
       "      <td>3630.000000</td>\n",
       "      <td>3630.000000</td>\n",
       "    </tr>\n",
       "    <tr>\n",
       "      <th>mean</th>\n",
       "      <td>38.887036</td>\n",
       "      <td>30.629652</td>\n",
       "      <td>2.503581</td>\n",
       "      <td>12784.808644</td>\n",
       "    </tr>\n",
       "    <tr>\n",
       "      <th>std</th>\n",
       "      <td>12.151029</td>\n",
       "      <td>5.441307</td>\n",
       "      <td>1.712568</td>\n",
       "      <td>10746.166743</td>\n",
       "    </tr>\n",
       "    <tr>\n",
       "      <th>min</th>\n",
       "      <td>18.000000</td>\n",
       "      <td>15.960000</td>\n",
       "      <td>0.000000</td>\n",
       "      <td>1121.873900</td>\n",
       "    </tr>\n",
       "    <tr>\n",
       "      <th>25%</th>\n",
       "      <td>29.000000</td>\n",
       "      <td>26.694526</td>\n",
       "      <td>1.000000</td>\n",
       "      <td>5654.818262</td>\n",
       "    </tr>\n",
       "    <tr>\n",
       "      <th>50%</th>\n",
       "      <td>39.170922</td>\n",
       "      <td>30.200000</td>\n",
       "      <td>3.000000</td>\n",
       "      <td>9443.807222</td>\n",
       "    </tr>\n",
       "    <tr>\n",
       "      <th>75%</th>\n",
       "      <td>48.343281</td>\n",
       "      <td>34.100000</td>\n",
       "      <td>4.000000</td>\n",
       "      <td>14680.407505</td>\n",
       "    </tr>\n",
       "    <tr>\n",
       "      <th>max</th>\n",
       "      <td>64.000000</td>\n",
       "      <td>53.130000</td>\n",
       "      <td>5.000000</td>\n",
       "      <td>63770.428010</td>\n",
       "    </tr>\n",
       "  </tbody>\n",
       "</table>\n",
       "</div>"
      ],
      "text/plain": [
       "               age          bmi     children       charges\n",
       "count  3630.000000  3630.000000  3630.000000   3630.000000\n",
       "mean     38.887036    30.629652     2.503581  12784.808644\n",
       "std      12.151029     5.441307     1.712568  10746.166743\n",
       "min      18.000000    15.960000     0.000000   1121.873900\n",
       "25%      29.000000    26.694526     1.000000   5654.818262\n",
       "50%      39.170922    30.200000     3.000000   9443.807222\n",
       "75%      48.343281    34.100000     4.000000  14680.407505\n",
       "max      64.000000    53.130000     5.000000  63770.428010"
      ]
     },
     "execution_count": 4,
     "metadata": {},
     "output_type": "execute_result"
    }
   ],
   "source": [
    "train_data.describe()"
   ]
  },
  {
   "cell_type": "markdown",
   "id": "e6adc2d1",
   "metadata": {
    "papermill": {
     "duration": 0.013184,
     "end_time": "2022-12-07T22:25:13.494487",
     "exception": false,
     "start_time": "2022-12-07T22:25:13.481303",
     "status": "completed"
    },
    "tags": []
   },
   "source": [
    "# Show Data info"
   ]
  },
  {
   "cell_type": "code",
   "execution_count": 5,
   "id": "2b9465c7",
   "metadata": {
    "execution": {
     "iopub.execute_input": "2022-12-07T22:25:13.522854Z",
     "iopub.status.busy": "2022-12-07T22:25:13.522275Z",
     "iopub.status.idle": "2022-12-07T22:25:13.539163Z",
     "shell.execute_reply": "2022-12-07T22:25:13.537553Z"
    },
    "papermill": {
     "duration": 0.033695,
     "end_time": "2022-12-07T22:25:13.541410",
     "exception": false,
     "start_time": "2022-12-07T22:25:13.507715",
     "status": "completed"
    },
    "tags": []
   },
   "outputs": [
    {
     "name": "stdout",
     "output_type": "stream",
     "text": [
      "<class 'pandas.core.frame.DataFrame'>\n",
      "RangeIndex: 3630 entries, 0 to 3629\n",
      "Data columns (total 7 columns):\n",
      " #   Column    Non-Null Count  Dtype  \n",
      "---  ------    --------------  -----  \n",
      " 0   age       3630 non-null   float64\n",
      " 1   sex       3630 non-null   object \n",
      " 2   bmi       3630 non-null   float64\n",
      " 3   smoker    3630 non-null   object \n",
      " 4   region    3630 non-null   object \n",
      " 5   children  3630 non-null   int64  \n",
      " 6   charges   3630 non-null   float64\n",
      "dtypes: float64(3), int64(1), object(3)\n",
      "memory usage: 198.6+ KB\n"
     ]
    }
   ],
   "source": [
    "train_data.info()"
   ]
  },
  {
   "cell_type": "markdown",
   "id": "06259b60",
   "metadata": {
    "papermill": {
     "duration": 0.012932,
     "end_time": "2022-12-07T22:25:13.567574",
     "exception": false,
     "start_time": "2022-12-07T22:25:13.554642",
     "status": "completed"
    },
    "tags": []
   },
   "source": [
    "# Show Data corr"
   ]
  },
  {
   "cell_type": "code",
   "execution_count": 6,
   "id": "d41b53e4",
   "metadata": {
    "execution": {
     "iopub.execute_input": "2022-12-07T22:25:13.596302Z",
     "iopub.status.busy": "2022-12-07T22:25:13.595354Z",
     "iopub.status.idle": "2022-12-07T22:25:13.609362Z",
     "shell.execute_reply": "2022-12-07T22:25:13.607795Z"
    },
    "papermill": {
     "duration": 0.030417,
     "end_time": "2022-12-07T22:25:13.611314",
     "exception": false,
     "start_time": "2022-12-07T22:25:13.580897",
     "status": "completed"
    },
    "tags": []
   },
   "outputs": [
    {
     "data": {
      "text/html": [
       "<div>\n",
       "<style scoped>\n",
       "    .dataframe tbody tr th:only-of-type {\n",
       "        vertical-align: middle;\n",
       "    }\n",
       "\n",
       "    .dataframe tbody tr th {\n",
       "        vertical-align: top;\n",
       "    }\n",
       "\n",
       "    .dataframe thead th {\n",
       "        text-align: right;\n",
       "    }\n",
       "</style>\n",
       "<table border=\"1\" class=\"dataframe\">\n",
       "  <thead>\n",
       "    <tr style=\"text-align: right;\">\n",
       "      <th></th>\n",
       "      <th>age</th>\n",
       "      <th>bmi</th>\n",
       "      <th>children</th>\n",
       "      <th>charges</th>\n",
       "    </tr>\n",
       "  </thead>\n",
       "  <tbody>\n",
       "    <tr>\n",
       "      <th>age</th>\n",
       "      <td>1.000000</td>\n",
       "      <td>0.143527</td>\n",
       "      <td>-0.061076</td>\n",
       "      <td>0.299692</td>\n",
       "    </tr>\n",
       "    <tr>\n",
       "      <th>bmi</th>\n",
       "      <td>0.143527</td>\n",
       "      <td>1.000000</td>\n",
       "      <td>-0.041996</td>\n",
       "      <td>0.211325</td>\n",
       "    </tr>\n",
       "    <tr>\n",
       "      <th>children</th>\n",
       "      <td>-0.061076</td>\n",
       "      <td>-0.041996</td>\n",
       "      <td>1.000000</td>\n",
       "      <td>-0.075089</td>\n",
       "    </tr>\n",
       "    <tr>\n",
       "      <th>charges</th>\n",
       "      <td>0.299692</td>\n",
       "      <td>0.211325</td>\n",
       "      <td>-0.075089</td>\n",
       "      <td>1.000000</td>\n",
       "    </tr>\n",
       "  </tbody>\n",
       "</table>\n",
       "</div>"
      ],
      "text/plain": [
       "               age       bmi  children   charges\n",
       "age       1.000000  0.143527 -0.061076  0.299692\n",
       "bmi       0.143527  1.000000 -0.041996  0.211325\n",
       "children -0.061076 -0.041996  1.000000 -0.075089\n",
       "charges   0.299692  0.211325 -0.075089  1.000000"
      ]
     },
     "execution_count": 6,
     "metadata": {},
     "output_type": "execute_result"
    }
   ],
   "source": [
    "train_data.corr()"
   ]
  },
  {
   "cell_type": "markdown",
   "id": "97c5a1c3",
   "metadata": {
    "papermill": {
     "duration": 0.012894,
     "end_time": "2022-12-07T22:25:13.637634",
     "exception": false,
     "start_time": "2022-12-07T22:25:13.624740",
     "status": "completed"
    },
    "tags": []
   },
   "source": [
    "# Display Data corr"
   ]
  },
  {
   "cell_type": "code",
   "execution_count": 7,
   "id": "b4327550",
   "metadata": {
    "execution": {
     "iopub.execute_input": "2022-12-07T22:25:13.666777Z",
     "iopub.status.busy": "2022-12-07T22:25:13.666063Z",
     "iopub.status.idle": "2022-12-07T22:25:13.925835Z",
     "shell.execute_reply": "2022-12-07T22:25:13.924872Z"
    },
    "papermill": {
     "duration": 0.277806,
     "end_time": "2022-12-07T22:25:13.928704",
     "exception": false,
     "start_time": "2022-12-07T22:25:13.650898",
     "status": "completed"
    },
    "tags": []
   },
   "outputs": [
    {
     "data": {
      "text/plain": [
       "<AxesSubplot:>"
      ]
     },
     "execution_count": 7,
     "metadata": {},
     "output_type": "execute_result"
    },
    {
     "data": {
      "image/png": "[encoded data removed]",
      "text/plain": [
       "<Figure size 432x288 with 2 Axes>"
      ]
     },
     "metadata": {
      "needs_background": "light"
     },
     "output_type": "display_data"
    }
   ],
   "source": [
    "sns.heatmap(train_data.corr(),annot=True,cmap='twilight_shifted')"
   ]
  },
  {
   "cell_type": "markdown",
   "id": "ca301c31",
   "metadata": {
    "papermill": {
     "duration": 0.013916,
     "end_time": "2022-12-07T22:25:13.957158",
     "exception": false,
     "start_time": "2022-12-07T22:25:13.943242",
     "status": "completed"
    },
    "tags": []
   },
   "source": [
    "# Show Data contain null data"
   ]
  },
  {
   "cell_type": "code",
   "execution_count": 8,
   "id": "9ea0d7de",
   "metadata": {
    "execution": {
     "iopub.execute_input": "2022-12-07T22:25:13.986641Z",
     "iopub.status.busy": "2022-12-07T22:25:13.986241Z",
     "iopub.status.idle": "2022-12-07T22:25:14.001586Z",
     "shell.execute_reply": "2022-12-07T22:25:14.000486Z"
    },
    "papermill": {
     "duration": 0.032643,
     "end_time": "2022-12-07T22:25:14.003707",
     "exception": false,
     "start_time": "2022-12-07T22:25:13.971064",
     "status": "completed"
    },
    "tags": []
   },
   "outputs": [
    {
     "data": {
      "text/html": [
       "<div>\n",
       "<style scoped>\n",
       "    .dataframe tbody tr th:only-of-type {\n",
       "        vertical-align: middle;\n",
       "    }\n",
       "\n",
       "    .dataframe tbody tr th {\n",
       "        vertical-align: top;\n",
       "    }\n",
       "\n",
       "    .dataframe thead th {\n",
       "        text-align: right;\n",
       "    }\n",
       "</style>\n",
       "<table border=\"1\" class=\"dataframe\">\n",
       "  <thead>\n",
       "    <tr style=\"text-align: right;\">\n",
       "      <th></th>\n",
       "      <th>Number of null</th>\n",
       "      <th>percentage</th>\n",
       "    </tr>\n",
       "  </thead>\n",
       "  <tbody>\n",
       "    <tr>\n",
       "      <th>age</th>\n",
       "      <td>0</td>\n",
       "      <td>0.0</td>\n",
       "    </tr>\n",
       "    <tr>\n",
       "      <th>sex</th>\n",
       "      <td>0</td>\n",
       "      <td>0.0</td>\n",
       "    </tr>\n",
       "    <tr>\n",
       "      <th>bmi</th>\n",
       "      <td>0</td>\n",
       "      <td>0.0</td>\n",
       "    </tr>\n",
       "    <tr>\n",
       "      <th>smoker</th>\n",
       "      <td>0</td>\n",
       "      <td>0.0</td>\n",
       "    </tr>\n",
       "    <tr>\n",
       "      <th>region</th>\n",
       "      <td>0</td>\n",
       "      <td>0.0</td>\n",
       "    </tr>\n",
       "    <tr>\n",
       "      <th>children</th>\n",
       "      <td>0</td>\n",
       "      <td>0.0</td>\n",
       "    </tr>\n",
       "    <tr>\n",
       "      <th>charges</th>\n",
       "      <td>0</td>\n",
       "      <td>0.0</td>\n",
       "    </tr>\n",
       "  </tbody>\n",
       "</table>\n",
       "</div>"
      ],
      "text/plain": [
       "          Number of null  percentage\n",
       "age                    0         0.0\n",
       "sex                    0         0.0\n",
       "bmi                    0         0.0\n",
       "smoker                 0         0.0\n",
       "region                 0         0.0\n",
       "children               0         0.0\n",
       "charges                0         0.0"
      ]
     },
     "execution_count": 8,
     "metadata": {},
     "output_type": "execute_result"
    }
   ],
   "source": [
    "data=pd.DataFrame(train_data.isnull().sum(),columns=['Number of null'])\n",
    "data['percentage']=(train_data.isnull().sum())/len(train_data)*100\n",
    "data"
   ]
  },
  {
   "cell_type": "markdown",
   "id": "6370499a",
   "metadata": {
    "papermill": {
     "duration": 0.013772,
     "end_time": "2022-12-07T22:25:14.031680",
     "exception": false,
     "start_time": "2022-12-07T22:25:14.017908",
     "status": "completed"
    },
    "tags": []
   },
   "source": [
    "# Show data contain duplicate data"
   ]
  },
  {
   "cell_type": "code",
   "execution_count": 9,
   "id": "4bd2864d",
   "metadata": {
    "execution": {
     "iopub.execute_input": "2022-12-07T22:25:14.061476Z",
     "iopub.status.busy": "2022-12-07T22:25:14.060546Z",
     "iopub.status.idle": "2022-12-07T22:25:14.072865Z",
     "shell.execute_reply": "2022-12-07T22:25:14.072201Z"
    },
    "papermill": {
     "duration": 0.028999,
     "end_time": "2022-12-07T22:25:14.074620",
     "exception": false,
     "start_time": "2022-12-07T22:25:14.045621",
     "status": "completed"
    },
    "tags": []
   },
   "outputs": [
    {
     "data": {
      "text/plain": [
       "679"
      ]
     },
     "execution_count": 9,
     "metadata": {},
     "output_type": "execute_result"
    }
   ],
   "source": [
    "train_data.duplicated().sum()"
   ]
  },
  {
   "cell_type": "markdown",
   "id": "170e7d6d",
   "metadata": {
    "papermill": {
     "duration": 0.014016,
     "end_time": "2022-12-07T22:25:14.102643",
     "exception": false,
     "start_time": "2022-12-07T22:25:14.088627",
     "status": "completed"
    },
    "tags": []
   },
   "source": [
    "# Show distribution of sex"
   ]
  },
  {
   "cell_type": "code",
   "execution_count": 10,
   "id": "231aeb96",
   "metadata": {
    "execution": {
     "iopub.execute_input": "2022-12-07T22:25:14.134020Z",
     "iopub.status.busy": "2022-12-07T22:25:14.132839Z",
     "iopub.status.idle": "2022-12-07T22:25:14.263785Z",
     "shell.execute_reply": "2022-12-07T22:25:14.262904Z"
    },
    "papermill": {
     "duration": 0.148362,
     "end_time": "2022-12-07T22:25:14.265738",
     "exception": false,
     "start_time": "2022-12-07T22:25:14.117376",
     "status": "completed"
    },
    "tags": []
   },
   "outputs": [
    {
     "data": {
      "text/plain": [
       "<AxesSubplot:xlabel='sex', ylabel='count'>"
      ]
     },
     "execution_count": 10,
     "metadata": {},
     "output_type": "execute_result"
    },
    {
     "data": {
      "image/png": "[encoded data removed]",
      "text/plain": [
       "<Figure size 432x288 with 1 Axes>"
      ]
     },
     "metadata": {
      "needs_background": "light"
     },
     "output_type": "display_data"
    }
   ],
   "source": [
    "sns.countplot(x='sex',data=train_data)"
   ]
  },
  {
   "cell_type": "markdown",
   "id": "4b3fdf3a",
   "metadata": {
    "papermill": {
     "duration": 0.014022,
     "end_time": "2022-12-07T22:25:14.302132",
     "exception": false,
     "start_time": "2022-12-07T22:25:14.288110",
     "status": "completed"
    },
    "tags": []
   },
   "source": [
    "\n",
    "# Show distribution of sex"
   ]
  },
  {
   "cell_type": "code",
   "execution_count": 11,
   "id": "ada783d1",
   "metadata": {
    "execution": {
     "iopub.execute_input": "2022-12-07T22:25:14.331975Z",
     "iopub.status.busy": "2022-12-07T22:25:14.331666Z",
     "iopub.status.idle": "2022-12-07T22:25:14.449527Z",
     "shell.execute_reply": "2022-12-07T22:25:14.448556Z"
    },
    "papermill": {
     "duration": 0.135313,
     "end_time": "2022-12-07T22:25:14.451668",
     "exception": false,
     "start_time": "2022-12-07T22:25:14.316355",
     "status": "completed"
    },
    "tags": []
   },
   "outputs": [
    {
     "data": {
      "text/plain": [
       "<AxesSubplot:xlabel='smoker', ylabel='count'>"
      ]
     },
     "execution_count": 11,
     "metadata": {},
     "output_type": "execute_result"
    },
    {
     "data": {
      "image/png": "[encoded data removed]",
      "text/plain": [
       "<Figure size 432x288 with 1 Axes>"
      ]
     },
     "metadata": {
      "needs_background": "light"
     },
     "output_type": "display_data"
    }
   ],
   "source": [
    "sns.countplot(x=\"smoker\", data=train_data)"
   ]
  },
  {
   "cell_type": "markdown",
   "id": "637f7942",
   "metadata": {
    "papermill": {
     "duration": 0.018602,
     "end_time": "2022-12-07T22:25:14.501302",
     "exception": false,
     "start_time": "2022-12-07T22:25:14.482700",
     "status": "completed"
    },
    "tags": []
   },
   "source": [
    "# show relationship between smoker and sex"
   ]
  },
  {
   "cell_type": "code",
   "execution_count": 12,
   "id": "19417942",
   "metadata": {
    "execution": {
     "iopub.execute_input": "2022-12-07T22:25:14.533112Z",
     "iopub.status.busy": "2022-12-07T22:25:14.532692Z",
     "iopub.status.idle": "2022-12-07T22:25:14.720772Z",
     "shell.execute_reply": "2022-12-07T22:25:14.719725Z"
    },
    "papermill": {
     "duration": 0.206081,
     "end_time": "2022-12-07T22:25:14.722786",
     "exception": false,
     "start_time": "2022-12-07T22:25:14.516705",
     "status": "completed"
    },
    "tags": []
   },
   "outputs": [
    {
     "data": {
      "text/plain": [
       "<AxesSubplot:xlabel='smoker', ylabel='count'>"
      ]
     },
     "execution_count": 12,
     "metadata": {},
     "output_type": "execute_result"
    },
    {
     "data": {
      "image/png": "[encoded data removed]",
      "text/plain": [
       "<Figure size 432x288 with 1 Axes>"
      ]
     },
     "metadata": {
      "needs_background": "light"
     },
     "output_type": "display_data"
    }
   ],
   "source": [
    "sns.countplot(x=\"smoker\", hue=\"sex\", data=train_data)"
   ]
  },
  {
   "cell_type": "markdown",
   "id": "e722bb76",
   "metadata": {
    "papermill": {
     "duration": 0.0145,
     "end_time": "2022-12-07T22:25:14.753776",
     "exception": false,
     "start_time": "2022-12-07T22:25:14.739276",
     "status": "completed"
    },
    "tags": []
   },
   "source": [
    "# Show distribution of region"
   ]
  },
  {
   "cell_type": "code",
   "execution_count": 13,
   "id": "e365372a",
   "metadata": {
    "execution": {
     "iopub.execute_input": "2022-12-07T22:25:14.790096Z",
     "iopub.status.busy": "2022-12-07T22:25:14.789706Z",
     "iopub.status.idle": "2022-12-07T22:25:14.956380Z",
     "shell.execute_reply": "2022-12-07T22:25:14.953049Z"
    },
    "papermill": {
     "duration": 0.188238,
     "end_time": "2022-12-07T22:25:14.959169",
     "exception": false,
     "start_time": "2022-12-07T22:25:14.770931",
     "status": "completed"
    },
    "tags": []
   },
   "outputs": [
    {
     "data": {
      "text/plain": [
       "<AxesSubplot:xlabel='region', ylabel='count'>"
      ]
     },
     "execution_count": 13,
     "metadata": {},
     "output_type": "execute_result"
    },
    {
     "data": {
      "image/png": "[encoded data removed]",
      "text/plain": [
       "<Figure size 432x288 with 1 Axes>"
      ]
     },
     "metadata": {
      "needs_background": "light"
     },
     "output_type": "display_data"
    }
   ],
   "source": [
    "sns.countplot(x=\"region\", data=train_data)"
   ]
  },
  {
   "cell_type": "markdown",
   "id": "124ec345",
   "metadata": {
    "papermill": {
     "duration": 0.015432,
     "end_time": "2022-12-07T22:25:14.994978",
     "exception": false,
     "start_time": "2022-12-07T22:25:14.979546",
     "status": "completed"
    },
    "tags": []
   },
   "source": [
    "# show relationship between region and sex"
   ]
  },
  {
   "cell_type": "code",
   "execution_count": 14,
   "id": "787f48ab",
   "metadata": {
    "execution": {
     "iopub.execute_input": "2022-12-07T22:25:15.027304Z",
     "iopub.status.busy": "2022-12-07T22:25:15.026636Z",
     "iopub.status.idle": "2022-12-07T22:25:15.212354Z",
     "shell.execute_reply": "2022-12-07T22:25:15.211086Z"
    },
    "papermill": {
     "duration": 0.206753,
     "end_time": "2022-12-07T22:25:15.216856",
     "exception": false,
     "start_time": "2022-12-07T22:25:15.010103",
     "status": "completed"
    },
    "tags": []
   },
   "outputs": [
    {
     "data": {
      "text/plain": [
       "<AxesSubplot:xlabel='sex', ylabel='count'>"
      ]
     },
     "execution_count": 14,
     "metadata": {},
     "output_type": "execute_result"
    },
    {
     "data": {
      "image/png": "[encoded data removed]",
      "text/plain": [
       "<Figure size 432x288 with 1 Axes>"
      ]
     },
     "metadata": {
      "needs_background": "light"
     },
     "output_type": "display_data"
    }
   ],
   "source": [
    "sns.countplot(x=\"sex\", hue=\"region\", data=train_data)"
   ]
  },
  {
   "cell_type": "markdown",
   "id": "542d8650",
   "metadata": {
    "papermill": {
     "duration": 0.017027,
     "end_time": "2022-12-07T22:25:15.249608",
     "exception": false,
     "start_time": "2022-12-07T22:25:15.232581",
     "status": "completed"
    },
    "tags": []
   },
   "source": [
    "# show relationship between smoker and region"
   ]
  },
  {
   "cell_type": "code",
   "execution_count": 15,
   "id": "129528f1",
   "metadata": {
    "execution": {
     "iopub.execute_input": "2022-12-07T22:25:15.282982Z",
     "iopub.status.busy": "2022-12-07T22:25:15.281639Z",
     "iopub.status.idle": "2022-12-07T22:25:15.468715Z",
     "shell.execute_reply": "2022-12-07T22:25:15.467703Z"
    },
    "papermill": {
     "duration": 0.205199,
     "end_time": "2022-12-07T22:25:15.470345",
     "exception": false,
     "start_time": "2022-12-07T22:25:15.265146",
     "status": "completed"
    },
    "tags": []
   },
   "outputs": [
    {
     "data": {
      "text/plain": [
       "<AxesSubplot:xlabel='smoker', ylabel='count'>"
      ]
     },
     "execution_count": 15,
     "metadata": {},
     "output_type": "execute_result"
    },
    {
     "data": {
      "image/png": "[encoded data removed]",
      "text/plain": [
       "<Figure size 432x288 with 1 Axes>"
      ]
     },
     "metadata": {
      "needs_background": "light"
     },
     "output_type": "display_data"
    }
   ],
   "source": [
    "sns.countplot(x=\"smoker\", hue=\"region\", data=train_data)"
   ]
  },
  {
   "cell_type": "markdown",
   "id": "05cb7080",
   "metadata": {
    "papermill": {
     "duration": 0.01521,
     "end_time": "2022-12-07T22:25:15.501100",
     "exception": false,
     "start_time": "2022-12-07T22:25:15.485890",
     "status": "completed"
    },
    "tags": []
   },
   "source": [
    "# Show input X and output y"
   ]
  },
  {
   "cell_type": "code",
   "execution_count": 16,
   "id": "455a3def",
   "metadata": {
    "execution": {
     "iopub.execute_input": "2022-12-07T22:25:15.533759Z",
     "iopub.status.busy": "2022-12-07T22:25:15.533173Z",
     "iopub.status.idle": "2022-12-07T22:25:15.538945Z",
     "shell.execute_reply": "2022-12-07T22:25:15.538212Z"
    },
    "papermill": {
     "duration": 0.024811,
     "end_time": "2022-12-07T22:25:15.541369",
     "exception": false,
     "start_time": "2022-12-07T22:25:15.516558",
     "status": "completed"
    },
    "tags": []
   },
   "outputs": [],
   "source": [
    "X=train_data.iloc[:,:-1]\n",
    "y=train_data.iloc[:,-1]"
   ]
  },
  {
   "cell_type": "markdown",
   "id": "129d3f7f",
   "metadata": {
    "papermill": {
     "duration": 0.015863,
     "end_time": "2022-12-07T22:25:15.573286",
     "exception": false,
     "start_time": "2022-12-07T22:25:15.557423",
     "status": "completed"
    },
    "tags": []
   },
   "source": [
    "# Show X"
   ]
  },
  {
   "cell_type": "code",
   "execution_count": 17,
   "id": "fd7b8c50",
   "metadata": {
    "execution": {
     "iopub.execute_input": "2022-12-07T22:25:15.607499Z",
     "iopub.status.busy": "2022-12-07T22:25:15.606901Z",
     "iopub.status.idle": "2022-12-07T22:25:15.622772Z",
     "shell.execute_reply": "2022-12-07T22:25:15.621629Z"
    },
    "papermill": {
     "duration": 0.03549,
     "end_time": "2022-12-07T22:25:15.625255",
     "exception": false,
     "start_time": "2022-12-07T22:25:15.589765",
     "status": "completed"
    },
    "tags": []
   },
   "outputs": [
    {
     "data": {
      "text/html": [
       "<div>\n",
       "<style scoped>\n",
       "    .dataframe tbody tr th:only-of-type {\n",
       "        vertical-align: middle;\n",
       "    }\n",
       "\n",
       "    .dataframe tbody tr th {\n",
       "        vertical-align: top;\n",
       "    }\n",
       "\n",
       "    .dataframe thead th {\n",
       "        text-align: right;\n",
       "    }\n",
       "</style>\n",
       "<table border=\"1\" class=\"dataframe\">\n",
       "  <thead>\n",
       "    <tr style=\"text-align: right;\">\n",
       "      <th></th>\n",
       "      <th>age</th>\n",
       "      <th>sex</th>\n",
       "      <th>bmi</th>\n",
       "      <th>smoker</th>\n",
       "      <th>region</th>\n",
       "      <th>children</th>\n",
       "    </tr>\n",
       "  </thead>\n",
       "  <tbody>\n",
       "    <tr>\n",
       "      <th>0</th>\n",
       "      <td>21.000000</td>\n",
       "      <td>male</td>\n",
       "      <td>25.745000</td>\n",
       "      <td>no</td>\n",
       "      <td>northeast</td>\n",
       "      <td>2</td>\n",
       "    </tr>\n",
       "    <tr>\n",
       "      <th>1</th>\n",
       "      <td>36.976978</td>\n",
       "      <td>female</td>\n",
       "      <td>25.744165</td>\n",
       "      <td>yes</td>\n",
       "      <td>southeast</td>\n",
       "      <td>3</td>\n",
       "    </tr>\n",
       "    <tr>\n",
       "      <th>2</th>\n",
       "      <td>18.000000</td>\n",
       "      <td>male</td>\n",
       "      <td>30.030000</td>\n",
       "      <td>no</td>\n",
       "      <td>southeast</td>\n",
       "      <td>1</td>\n",
       "    </tr>\n",
       "    <tr>\n",
       "      <th>3</th>\n",
       "      <td>37.000000</td>\n",
       "      <td>male</td>\n",
       "      <td>30.676891</td>\n",
       "      <td>no</td>\n",
       "      <td>northeast</td>\n",
       "      <td>3</td>\n",
       "    </tr>\n",
       "    <tr>\n",
       "      <th>4</th>\n",
       "      <td>58.000000</td>\n",
       "      <td>male</td>\n",
       "      <td>32.010000</td>\n",
       "      <td>no</td>\n",
       "      <td>southeast</td>\n",
       "      <td>1</td>\n",
       "    </tr>\n",
       "    <tr>\n",
       "      <th>...</th>\n",
       "      <td>...</td>\n",
       "      <td>...</td>\n",
       "      <td>...</td>\n",
       "      <td>...</td>\n",
       "      <td>...</td>\n",
       "      <td>...</td>\n",
       "    </tr>\n",
       "    <tr>\n",
       "      <th>3625</th>\n",
       "      <td>48.820767</td>\n",
       "      <td>female</td>\n",
       "      <td>41.426984</td>\n",
       "      <td>no</td>\n",
       "      <td>northwest</td>\n",
       "      <td>4</td>\n",
       "    </tr>\n",
       "    <tr>\n",
       "      <th>3626</th>\n",
       "      <td>38.661977</td>\n",
       "      <td>female</td>\n",
       "      <td>26.202557</td>\n",
       "      <td>no</td>\n",
       "      <td>southeast</td>\n",
       "      <td>2</td>\n",
       "    </tr>\n",
       "    <tr>\n",
       "      <th>3627</th>\n",
       "      <td>56.000000</td>\n",
       "      <td>male</td>\n",
       "      <td>40.300000</td>\n",
       "      <td>no</td>\n",
       "      <td>southwest</td>\n",
       "      <td>0</td>\n",
       "    </tr>\n",
       "    <tr>\n",
       "      <th>3628</th>\n",
       "      <td>48.061207</td>\n",
       "      <td>female</td>\n",
       "      <td>34.930624</td>\n",
       "      <td>no</td>\n",
       "      <td>southeast</td>\n",
       "      <td>1</td>\n",
       "    </tr>\n",
       "    <tr>\n",
       "      <th>3629</th>\n",
       "      <td>37.598865</td>\n",
       "      <td>female</td>\n",
       "      <td>25.219233</td>\n",
       "      <td>no</td>\n",
       "      <td>northeast</td>\n",
       "      <td>3</td>\n",
       "    </tr>\n",
       "  </tbody>\n",
       "</table>\n",
       "<p>3630 rows × 6 columns</p>\n",
       "</div>"
      ],
      "text/plain": [
       "            age     sex        bmi smoker     region  children\n",
       "0     21.000000    male  25.745000     no  northeast         2\n",
       "1     36.976978  female  25.744165    yes  southeast         3\n",
       "2     18.000000    male  30.030000     no  southeast         1\n",
       "3     37.000000    male  30.676891     no  northeast         3\n",
       "4     58.000000    male  32.010000     no  southeast         1\n",
       "...         ...     ...        ...    ...        ...       ...\n",
       "3625  48.820767  female  41.426984     no  northwest         4\n",
       "3626  38.661977  female  26.202557     no  southeast         2\n",
       "3627  56.000000    male  40.300000     no  southwest         0\n",
       "3628  48.061207  female  34.930624     no  southeast         1\n",
       "3629  37.598865  female  25.219233     no  northeast         3\n",
       "\n",
       "[3630 rows x 6 columns]"
      ]
     },
     "execution_count": 17,
     "metadata": {},
     "output_type": "execute_result"
    }
   ],
   "source": [
    "X"
   ]
  },
  {
   "cell_type": "markdown",
   "id": "7d37a578",
   "metadata": {
    "papermill": {
     "duration": 0.017132,
     "end_time": "2022-12-07T22:25:15.658451",
     "exception": false,
     "start_time": "2022-12-07T22:25:15.641319",
     "status": "completed"
    },
    "tags": []
   },
   "source": [
    "# Show y"
   ]
  },
  {
   "cell_type": "code",
   "execution_count": 18,
   "id": "8bee76a2",
   "metadata": {
    "execution": {
     "iopub.execute_input": "2022-12-07T22:25:15.692724Z",
     "iopub.status.busy": "2022-12-07T22:25:15.691850Z",
     "iopub.status.idle": "2022-12-07T22:25:15.699546Z",
     "shell.execute_reply": "2022-12-07T22:25:15.698706Z"
    },
    "papermill": {
     "duration": 0.027096,
     "end_time": "2022-12-07T22:25:15.701593",
     "exception": false,
     "start_time": "2022-12-07T22:25:15.674497",
     "status": "completed"
    },
    "tags": []
   },
   "outputs": [
    {
     "data": {
      "text/plain": [
       "0        3279.868550\n",
       "1       21454.494239\n",
       "2        1720.353700\n",
       "3        6801.437542\n",
       "4       11946.625900\n",
       "            ...     \n",
       "3625    10987.324964\n",
       "3626    11735.844352\n",
       "3627    10602.385000\n",
       "3628     8976.140452\n",
       "3629     7027.698968\n",
       "Name: charges, Length: 3630, dtype: float64"
      ]
     },
     "execution_count": 18,
     "metadata": {},
     "output_type": "execute_result"
    }
   ],
   "source": [
    "y"
   ]
  },
  {
   "cell_type": "markdown",
   "id": "36db5021",
   "metadata": {
    "papermill": {
     "duration": 0.015974,
     "end_time": "2022-12-07T22:25:15.733915",
     "exception": false,
     "start_time": "2022-12-07T22:25:15.717941",
     "status": "completed"
    },
    "tags": []
   },
   "source": [
    "# Show object columns"
   ]
  },
  {
   "cell_type": "code",
   "execution_count": 19,
   "id": "c4801429",
   "metadata": {
    "execution": {
     "iopub.execute_input": "2022-12-07T22:25:15.768141Z",
     "iopub.status.busy": "2022-12-07T22:25:15.767728Z",
     "iopub.status.idle": "2022-12-07T22:25:15.779311Z",
     "shell.execute_reply": "2022-12-07T22:25:15.778227Z"
    },
    "papermill": {
     "duration": 0.03186,
     "end_time": "2022-12-07T22:25:15.782178",
     "exception": false,
     "start_time": "2022-12-07T22:25:15.750318",
     "status": "completed"
    },
    "tags": []
   },
   "outputs": [
    {
     "data": {
      "text/html": [
       "<div>\n",
       "<style scoped>\n",
       "    .dataframe tbody tr th:only-of-type {\n",
       "        vertical-align: middle;\n",
       "    }\n",
       "\n",
       "    .dataframe tbody tr th {\n",
       "        vertical-align: top;\n",
       "    }\n",
       "\n",
       "    .dataframe thead th {\n",
       "        text-align: right;\n",
       "    }\n",
       "</style>\n",
       "<table border=\"1\" class=\"dataframe\">\n",
       "  <thead>\n",
       "    <tr style=\"text-align: right;\">\n",
       "      <th></th>\n",
       "      <th>object</th>\n",
       "    </tr>\n",
       "  </thead>\n",
       "  <tbody>\n",
       "    <tr>\n",
       "      <th>0</th>\n",
       "      <td>sex</td>\n",
       "    </tr>\n",
       "    <tr>\n",
       "      <th>1</th>\n",
       "      <td>smoker</td>\n",
       "    </tr>\n",
       "    <tr>\n",
       "      <th>2</th>\n",
       "      <td>region</td>\n",
       "    </tr>\n",
       "  </tbody>\n",
       "</table>\n",
       "</div>"
      ],
      "text/plain": [
       "   object\n",
       "0     sex\n",
       "1  smoker\n",
       "2  region"
      ]
     },
     "execution_count": 19,
     "metadata": {},
     "output_type": "execute_result"
    }
   ],
   "source": [
    "col=train_data.select_dtypes(include=object).columns\n",
    "pd.DataFrame(col,columns=['object'])"
   ]
  },
  {
   "cell_type": "markdown",
   "id": "8c89563d",
   "metadata": {
    "papermill": {
     "duration": 0.016076,
     "end_time": "2022-12-07T22:25:15.814955",
     "exception": false,
     "start_time": "2022-12-07T22:25:15.798879",
     "status": "completed"
    },
    "tags": []
   },
   "source": [
    "# Transform X"
   ]
  },
  {
   "cell_type": "code",
   "execution_count": null,
   "id": "a0cbc79c",
   "metadata": {},
   "outputs": [],
   "source": []
  },
  {
   "cell_type": "code",
   "execution_count": 20,
   "id": "3800b72c",
   "metadata": {
    "execution": {
     "iopub.execute_input": "2022-12-07T22:25:15.849327Z",
     "iopub.status.busy": "2022-12-07T22:25:15.848896Z",
     "iopub.status.idle": "2022-12-07T22:25:15.869253Z",
     "shell.execute_reply": "2022-12-07T22:25:15.868298Z"
    },
    "papermill": {
     "duration": 0.039675,
     "end_time": "2022-12-07T22:25:15.871157",
     "exception": false,
     "start_time": "2022-12-07T22:25:15.831482",
     "status": "completed"
    },
    "tags": []
   },
   "outputs": [
    {
     "data": {
      "text/html": [
       "<div>\n",
       "<style scoped>\n",
       "    .dataframe tbody tr th:only-of-type {\n",
       "        vertical-align: middle;\n",
       "    }\n",
       "\n",
       "    .dataframe tbody tr th {\n",
       "        vertical-align: top;\n",
       "    }\n",
       "\n",
       "    .dataframe thead th {\n",
       "        text-align: right;\n",
       "    }\n",
       "</style>\n",
       "<table border=\"1\" class=\"dataframe\">\n",
       "  <thead>\n",
       "    <tr style=\"text-align: right;\">\n",
       "      <th></th>\n",
       "      <th>age</th>\n",
       "      <th>sex</th>\n",
       "      <th>bmi</th>\n",
       "      <th>smoker</th>\n",
       "      <th>region</th>\n",
       "      <th>children</th>\n",
       "    </tr>\n",
       "  </thead>\n",
       "  <tbody>\n",
       "    <tr>\n",
       "      <th>0</th>\n",
       "      <td>21.000000</td>\n",
       "      <td>1</td>\n",
       "      <td>25.745000</td>\n",
       "      <td>0</td>\n",
       "      <td>0</td>\n",
       "      <td>2</td>\n",
       "    </tr>\n",
       "    <tr>\n",
       "      <th>1</th>\n",
       "      <td>36.976978</td>\n",
       "      <td>0</td>\n",
       "      <td>25.744165</td>\n",
       "      <td>1</td>\n",
       "      <td>2</td>\n",
       "      <td>3</td>\n",
       "    </tr>\n",
       "    <tr>\n",
       "      <th>2</th>\n",
       "      <td>18.000000</td>\n",
       "      <td>1</td>\n",
       "      <td>30.030000</td>\n",
       "      <td>0</td>\n",
       "      <td>2</td>\n",
       "      <td>1</td>\n",
       "    </tr>\n",
       "    <tr>\n",
       "      <th>3</th>\n",
       "      <td>37.000000</td>\n",
       "      <td>1</td>\n",
       "      <td>30.676891</td>\n",
       "      <td>0</td>\n",
       "      <td>0</td>\n",
       "      <td>3</td>\n",
       "    </tr>\n",
       "    <tr>\n",
       "      <th>4</th>\n",
       "      <td>58.000000</td>\n",
       "      <td>1</td>\n",
       "      <td>32.010000</td>\n",
       "      <td>0</td>\n",
       "      <td>2</td>\n",
       "      <td>1</td>\n",
       "    </tr>\n",
       "    <tr>\n",
       "      <th>...</th>\n",
       "      <td>...</td>\n",
       "      <td>...</td>\n",
       "      <td>...</td>\n",
       "      <td>...</td>\n",
       "      <td>...</td>\n",
       "      <td>...</td>\n",
       "    </tr>\n",
       "    <tr>\n",
       "      <th>3625</th>\n",
       "      <td>48.820767</td>\n",
       "      <td>0</td>\n",
       "      <td>41.426984</td>\n",
       "      <td>0</td>\n",
       "      <td>1</td>\n",
       "      <td>4</td>\n",
       "    </tr>\n",
       "    <tr>\n",
       "      <th>3626</th>\n",
       "      <td>38.661977</td>\n",
       "      <td>0</td>\n",
       "      <td>26.202557</td>\n",
       "      <td>0</td>\n",
       "      <td>2</td>\n",
       "      <td>2</td>\n",
       "    </tr>\n",
       "    <tr>\n",
       "      <th>3627</th>\n",
       "      <td>56.000000</td>\n",
       "      <td>1</td>\n",
       "      <td>40.300000</td>\n",
       "      <td>0</td>\n",
       "      <td>3</td>\n",
       "      <td>0</td>\n",
       "    </tr>\n",
       "    <tr>\n",
       "      <th>3628</th>\n",
       "      <td>48.061207</td>\n",
       "      <td>0</td>\n",
       "      <td>34.930624</td>\n",
       "      <td>0</td>\n",
       "      <td>2</td>\n",
       "      <td>1</td>\n",
       "    </tr>\n",
       "    <tr>\n",
       "      <th>3629</th>\n",
       "      <td>37.598865</td>\n",
       "      <td>0</td>\n",
       "      <td>25.219233</td>\n",
       "      <td>0</td>\n",
       "      <td>0</td>\n",
       "      <td>3</td>\n",
       "    </tr>\n",
       "  </tbody>\n",
       "</table>\n",
       "<p>3630 rows × 6 columns</p>\n",
       "</div>"
      ],
      "text/plain": [
       "            age  sex        bmi  smoker  region  children\n",
       "0     21.000000    1  25.745000       0       0         2\n",
       "1     36.976978    0  25.744165       1       2         3\n",
       "2     18.000000    1  30.030000       0       2         1\n",
       "3     37.000000    1  30.676891       0       0         3\n",
       "4     58.000000    1  32.010000       0       2         1\n",
       "...         ...  ...        ...     ...     ...       ...\n",
       "3625  48.820767    0  41.426984       0       1         4\n",
       "3626  38.661977    0  26.202557       0       2         2\n",
       "3627  56.000000    1  40.300000       0       3         0\n",
       "3628  48.061207    0  34.930624       0       2         1\n",
       "3629  37.598865    0  25.219233       0       0         3\n",
       "\n",
       "[3630 rows x 6 columns]"
      ]
     },
     "execution_count": 20,
     "metadata": {},
     "output_type": "execute_result"
    }
   ],
   "source": [
    "label=LabelEncoder()\n",
    "for c in col:\n",
    "    X[c]=label.fit_transform(X[c])\n",
    "    test_data[c]=label.fit_transform(test_data[c])\n",
    "X"
   ]
  },
  {
   "cell_type": "markdown",
   "id": "97f47263",
   "metadata": {
    "papermill": {
     "duration": 0.016937,
     "end_time": "2022-12-07T22:25:15.905064",
     "exception": false,
     "start_time": "2022-12-07T22:25:15.888127",
     "status": "completed"
    },
    "tags": []
   },
   "source": [
    "# Split Data"
   ]
  },
  {
   "cell_type": "code",
   "execution_count": 21,
   "id": "4883b49e",
   "metadata": {
    "execution": {
     "iopub.execute_input": "2022-12-07T22:25:15.941295Z",
     "iopub.status.busy": "2022-12-07T22:25:15.939611Z",
     "iopub.status.idle": "2022-12-07T22:25:15.949064Z",
     "shell.execute_reply": "2022-12-07T22:25:15.947816Z"
    },
    "papermill": {
     "duration": 0.03017,
     "end_time": "2022-12-07T22:25:15.951880",
     "exception": false,
     "start_time": "2022-12-07T22:25:15.921710",
     "status": "completed"
    },
    "tags": []
   },
   "outputs": [
    {
     "name": "stdout",
     "output_type": "stream",
     "text": [
      "(2432, 6)\n",
      "(2432,)\n"
     ]
    }
   ],
   "source": [
    "X_train,X_test,y_train,y_test=train_test_split(X,y,test_size=.33,shuffle=True,random_state=33)\n",
    "print(X_train.shape)\n",
    "print(y_train.shape)"
   ]
  },
  {
   "cell_type": "markdown",
   "id": "7ed22109",
   "metadata": {
    "papermill": {
     "duration": 0.016174,
     "end_time": "2022-12-07T22:25:15.984644",
     "exception": false,
     "start_time": "2022-12-07T22:25:15.968470",
     "status": "completed"
    },
    "tags": []
   },
   "source": [
    "# Applying Linear Regression Model "
   ]
  },
  {
   "cell_type": "code",
   "execution_count": 26,
   "id": "47171fce",
   "metadata": {
    "execution": {
     "iopub.execute_input": "2022-12-07T22:25:16.019487Z",
     "iopub.status.busy": "2022-12-07T22:25:16.018759Z",
     "iopub.status.idle": "2022-12-07T22:25:16.048506Z",
     "shell.execute_reply": "2022-12-07T22:25:16.046870Z"
    },
    "papermill": {
     "duration": 0.050012,
     "end_time": "2022-12-07T22:25:16.050784",
     "exception": false,
     "start_time": "2022-12-07T22:25:16.000772",
     "status": "completed"
    },
    "tags": []
   },
   "outputs": [
    {
     "data": {
      "text/plain": [
       "LinearRegression(n_jobs=-1, normalize=True)"
      ]
     },
     "execution_count": 26,
     "metadata": {},
     "output_type": "execute_result"
    }
   ],
   "source": [
    "LinearRegressionModel = LinearRegression(fit_intercept=True, normalize=True,copy_X=True,n_jobs=-1)\n",
    "LinearRegressionModel.fit(X_train, y_train)"
   ]
  },
  {
   "cell_type": "markdown",
   "id": "80fc4dcf",
   "metadata": {
    "papermill": {
     "duration": 0.01653,
     "end_time": "2022-12-07T22:25:16.088591",
     "exception": false,
     "start_time": "2022-12-07T22:25:16.072061",
     "status": "completed"
    },
    "tags": []
   },
   "source": [
    "# Calculating Details"
   ]
  },
  {
   "cell_type": "code",
   "execution_count": 27,
   "id": "e5814057",
   "metadata": {
    "execution": {
     "iopub.execute_input": "2022-12-07T22:25:16.123918Z",
     "iopub.status.busy": "2022-12-07T22:25:16.123259Z",
     "iopub.status.idle": "2022-12-07T22:25:16.136414Z",
     "shell.execute_reply": "2022-12-07T22:25:16.135449Z"
    },
    "papermill": {
     "duration": 0.033677,
     "end_time": "2022-12-07T22:25:16.138804",
     "exception": false,
     "start_time": "2022-12-07T22:25:16.105127",
     "status": "completed"
    },
    "tags": []
   },
   "outputs": [
    {
     "name": "stdout",
     "output_type": "stream",
     "text": [
      "Linear Regression Train Score is :  0.7218763412331757\n"
     ]
    }
   ],
   "source": [
    "print('Linear Regression Train Score is : ' , LinearRegressionModel.score(X_train, y_train))"
   ]
  },
  {
   "cell_type": "markdown",
   "id": "0248fbb6",
   "metadata": {
    "papermill": {
     "duration": 0.021045,
     "end_time": "2022-12-07T22:25:16.181768",
     "exception": false,
     "start_time": "2022-12-07T22:25:16.160723",
     "status": "completed"
    },
    "tags": []
   },
   "source": [
    "# Applying Random Forest Regressor Model "
   ]
  },
  {
   "cell_type": "code",
   "execution_count": 28,
   "id": "a882e2e8",
   "metadata": {
    "execution": {
     "iopub.execute_input": "2022-12-07T22:25:16.229381Z",
     "iopub.status.busy": "2022-12-07T22:25:16.228991Z",
     "iopub.status.idle": "2022-12-07T22:25:17.766589Z",
     "shell.execute_reply": "2022-12-07T22:25:17.764884Z"
    },
    "papermill": {
     "duration": 1.566628,
     "end_time": "2022-12-07T22:25:17.769828",
     "exception": false,
     "start_time": "2022-12-07T22:25:16.203200",
     "status": "completed"
    },
    "tags": []
   },
   "outputs": [
    {
     "data": {
      "text/plain": [
       "RandomForestRegressor(max_depth=20, n_estimators=300, random_state=33)"
      ]
     },
     "execution_count": 28,
     "metadata": {},
     "output_type": "execute_result"
    }
   ],
   "source": [
    "RandomForestRegressorModel = RandomForestRegressor(n_estimators=300,max_depth=20, random_state=33)\n",
    "RandomForestRegressorModel.fit(X_train, y_train)"
   ]
  },
  {
   "cell_type": "code",
   "execution_count": 29,
   "id": "0d6d6335",
   "metadata": {},
   "outputs": [
    {
     "name": "stdout",
     "output_type": "stream",
     "text": [
      "Random Forest Regressor Train Score is: 0.985320523612953\n"
     ]
    }
   ],
   "source": [
    "from sklearn.ensemble import RandomForestRegressor\n",
    "\n",
    "RandomForestRegressorModel = RandomForestRegressor(n_estimators=300, max_depth=20, random_state=33)\n",
    "RandomForestRegressorModel.fit(X_train, y_train)\n",
    "print('Random Forest Regressor Train Score is:', RandomForestRegressorModel.score(X_train, y_train))\n"
   ]
  },
  {
   "cell_type": "markdown",
   "id": "c035c665",
   "metadata": {
    "papermill": {
     "duration": 0.016605,
     "end_time": "2022-12-07T22:25:17.803944",
     "exception": false,
     "start_time": "2022-12-07T22:25:17.787339",
     "status": "completed"
    },
    "tags": []
   },
   "source": [
    "# Calculating Details"
   ]
  },
  {
   "cell_type": "code",
   "execution_count": 30,
   "id": "8f328fe8",
   "metadata": {
    "execution": {
     "iopub.execute_input": "2022-12-07T22:25:17.839457Z",
     "iopub.status.busy": "2022-12-07T22:25:17.839079Z",
     "iopub.status.idle": "2022-12-07T22:25:18.101126Z",
     "shell.execute_reply": "2022-12-07T22:25:18.100232Z"
    },
    "papermill": {
     "duration": 0.282811,
     "end_time": "2022-12-07T22:25:18.103535",
     "exception": false,
     "start_time": "2022-12-07T22:25:17.820724",
     "status": "completed"
    },
    "tags": []
   },
   "outputs": [
    {
     "name": "stdout",
     "output_type": "stream",
     "text": [
      "Random Forest Regressor Train Score is :  0.985320523612953\n"
     ]
    }
   ],
   "source": [
    "print('Random Forest Regressor Train Score is : ' , RandomForestRegressorModel.score(X_train, y_train))"
   ]
  },
  {
   "cell_type": "markdown",
   "id": "fad9054f",
   "metadata": {
    "papermill": {
     "duration": 0.017298,
     "end_time": "2022-12-07T22:25:18.138600",
     "exception": false,
     "start_time": "2022-12-07T22:25:18.121302",
     "status": "completed"
    },
    "tags": []
   },
   "source": [
    "# Applying DecisionTreeRegressor Model "
   ]
  },
  {
   "cell_type": "code",
   "execution_count": 31,
   "id": "b73e29de",
   "metadata": {
    "execution": {
     "iopub.execute_input": "2022-12-07T22:25:18.174275Z",
     "iopub.status.busy": "2022-12-07T22:25:18.173740Z",
     "iopub.status.idle": "2022-12-07T22:25:18.188255Z",
     "shell.execute_reply": "2022-12-07T22:25:18.187061Z"
    },
    "papermill": {
     "duration": 0.034571,
     "end_time": "2022-12-07T22:25:18.190093",
     "exception": false,
     "start_time": "2022-12-07T22:25:18.155522",
     "status": "completed"
    },
    "tags": []
   },
   "outputs": [
    {
     "data": {
      "text/plain": [
       "DecisionTreeRegressor(max_depth=10, random_state=33)"
      ]
     },
     "execution_count": 31,
     "metadata": {},
     "output_type": "execute_result"
    }
   ],
   "source": [
    "DecisionTreeRegressorModel = DecisionTreeRegressor( max_depth=10,random_state=33)\n",
    "DecisionTreeRegressorModel.fit(X_train, y_train)"
   ]
  },
  {
   "cell_type": "markdown",
   "id": "b59c9ca6",
   "metadata": {
    "papermill": {
     "duration": 0.016706,
     "end_time": "2022-12-07T22:25:18.224152",
     "exception": false,
     "start_time": "2022-12-07T22:25:18.207446",
     "status": "completed"
    },
    "tags": []
   },
   "source": [
    "# Calculating Details"
   ]
  },
  {
   "cell_type": "code",
   "execution_count": 32,
   "id": "c4053a4c",
   "metadata": {
    "execution": {
     "iopub.execute_input": "2022-12-07T22:25:18.260308Z",
     "iopub.status.busy": "2022-12-07T22:25:18.259869Z",
     "iopub.status.idle": "2022-12-07T22:25:18.269784Z",
     "shell.execute_reply": "2022-12-07T22:25:18.269042Z"
    },
    "papermill": {
     "duration": 0.030861,
     "end_time": "2022-12-07T22:25:18.271983",
     "exception": false,
     "start_time": "2022-12-07T22:25:18.241122",
     "status": "completed"
    },
    "tags": []
   },
   "outputs": [
    {
     "name": "stdout",
     "output_type": "stream",
     "text": [
      "DecisionTreeRegressor Train Score is :  0.9682729072329567\n"
     ]
    }
   ],
   "source": [
    "print('DecisionTreeRegressor Train Score is : ' , DecisionTreeRegressorModel.score(X_train, y_train))"
   ]
  },
  {
   "cell_type": "markdown",
   "id": "a18959da",
   "metadata": {
    "papermill": {
     "duration": 0.017448,
     "end_time": "2022-12-07T22:25:19.049780",
     "exception": false,
     "start_time": "2022-12-07T22:25:19.032332",
     "status": "completed"
    },
    "tags": []
   },
   "source": [
    "# Display RandomForestRegressorModel.feature_importances_"
   ]
  },
  {
   "cell_type": "code",
   "execution_count": 33,
   "id": "7273e93c",
   "metadata": {
    "execution": {
     "iopub.execute_input": "2022-12-07T22:25:19.087089Z",
     "iopub.status.busy": "2022-12-07T22:25:19.086695Z",
     "iopub.status.idle": "2022-12-07T22:25:19.253214Z",
     "shell.execute_reply": "2022-12-07T22:25:19.252335Z"
    },
    "papermill": {
     "duration": 0.187715,
     "end_time": "2022-12-07T22:25:19.255215",
     "exception": false,
     "start_time": "2022-12-07T22:25:19.067500",
     "status": "completed"
    },
    "tags": []
   },
   "outputs": [],
   "source": [
    "#plt.bar(X.keys(),RandomForestRegressorModel.feature_importances_)"
   ]
  },
  {
   "cell_type": "markdown",
   "id": "29bafd92",
   "metadata": {
    "papermill": {
     "duration": 0.017475,
     "end_time": "2022-12-07T22:25:19.295341",
     "exception": false,
     "start_time": "2022-12-07T22:25:19.277866",
     "status": "completed"
    },
    "tags": []
   },
   "source": [
    "# Calculating Prediction"
   ]
  },
  {
   "cell_type": "code",
   "execution_count": 34,
   "id": "3209af83",
   "metadata": {
    "execution": {
     "iopub.execute_input": "2022-12-07T22:25:19.332824Z",
     "iopub.status.busy": "2022-12-07T22:25:19.332388Z",
     "iopub.status.idle": "2022-12-07T22:25:19.430562Z",
     "shell.execute_reply": "2022-12-07T22:25:19.428956Z"
    },
    "papermill": {
     "duration": 0.120217,
     "end_time": "2022-12-07T22:25:19.433442",
     "exception": false,
     "start_time": "2022-12-07T22:25:19.313225",
     "status": "completed"
    },
    "tags": []
   },
   "outputs": [
    {
     "name": "stdout",
     "output_type": "stream",
     "text": [
      "Predicted Value for Random Forest Regressor is :  [ 8616.2258361   2661.40761173  8809.78494106  9899.33673862\n",
      "  1752.0665845   2794.72598699  4867.01788978 26125.72656443\n",
      " 15379.3263213  10963.80238713]\n"
     ]
    }
   ],
   "source": [
    "y_pred = RandomForestRegressorModel.predict(X_test)\n",
    "print('Predicted Value for Random Forest Regressor is : ' , y_pred[:10])"
   ]
  },
  {
   "cell_type": "markdown",
   "id": "1fd34edf",
   "metadata": {
    "papermill": {
     "duration": 0.017187,
     "end_time": "2022-12-07T22:25:19.468527",
     "exception": false,
     "start_time": "2022-12-07T22:25:19.451340",
     "status": "completed"
    },
    "tags": []
   },
   "source": [
    "# Calculating Mean Absolute Error"
   ]
  },
  {
   "cell_type": "code",
   "execution_count": 35,
   "id": "61bfad60",
   "metadata": {
    "execution": {
     "iopub.execute_input": "2022-12-07T22:25:19.505525Z",
     "iopub.status.busy": "2022-12-07T22:25:19.505163Z",
     "iopub.status.idle": "2022-12-07T22:25:19.510401Z",
     "shell.execute_reply": "2022-12-07T22:25:19.509781Z"
    },
    "papermill": {
     "duration": 0.026734,
     "end_time": "2022-12-07T22:25:19.512900",
     "exception": false,
     "start_time": "2022-12-07T22:25:19.486166",
     "status": "completed"
    },
    "tags": []
   },
   "outputs": [
    {
     "name": "stdout",
     "output_type": "stream",
     "text": [
      "Mean Absolute Error Value is :  1609.967211179692\n"
     ]
    }
   ],
   "source": [
    "MAEValue = mean_absolute_error(y_test, y_pred, multioutput='uniform_average') # it can be raw_values\n",
    "print('Mean Absolute Error Value is : ', MAEValue)"
   ]
  },
  {
   "cell_type": "markdown",
   "id": "b8483e23",
   "metadata": {
    "papermill": {
     "duration": 0.017347,
     "end_time": "2022-12-07T22:25:19.547865",
     "exception": false,
     "start_time": "2022-12-07T22:25:19.530518",
     "status": "completed"
    },
    "tags": []
   },
   "source": [
    "# Calculating Mean Squared Error"
   ]
  },
  {
   "cell_type": "code",
   "execution_count": 36,
   "id": "861df09d",
   "metadata": {
    "execution": {
     "iopub.execute_input": "2022-12-07T22:25:19.584823Z",
     "iopub.status.busy": "2022-12-07T22:25:19.584479Z",
     "iopub.status.idle": "2022-12-07T22:25:19.589018Z",
     "shell.execute_reply": "2022-12-07T22:25:19.588354Z"
    },
    "papermill": {
     "duration": 0.02527,
     "end_time": "2022-12-07T22:25:19.590811",
     "exception": false,
     "start_time": "2022-12-07T22:25:19.565541",
     "status": "completed"
    },
    "tags": []
   },
   "outputs": [
    {
     "name": "stdout",
     "output_type": "stream",
     "text": [
      "Mean Squared Error Value is :  13851655.373824056\n"
     ]
    }
   ],
   "source": [
    "MSEValue = mean_squared_error(y_test, y_pred, multioutput='uniform_average') # it can be raw_values\n",
    "print('Mean Squared Error Value is : ', MSEValue)"
   ]
  },
  {
   "cell_type": "markdown",
   "id": "b2ac0f59",
   "metadata": {
    "papermill": {
     "duration": 0.017321,
     "end_time": "2022-12-07T22:25:19.625627",
     "exception": false,
     "start_time": "2022-12-07T22:25:19.608306",
     "status": "completed"
    },
    "tags": []
   },
   "source": [
    "# Calculating Median Absolute Error"
   ]
  },
  {
   "cell_type": "code",
   "execution_count": 37,
   "id": "41a1e96d",
   "metadata": {
    "execution": {
     "iopub.execute_input": "2022-12-07T22:25:19.663629Z",
     "iopub.status.busy": "2022-12-07T22:25:19.663116Z",
     "iopub.status.idle": "2022-12-07T22:25:19.668072Z",
     "shell.execute_reply": "2022-12-07T22:25:19.667039Z"
    },
    "papermill": {
     "duration": 0.02688,
     "end_time": "2022-12-07T22:25:19.669902",
     "exception": false,
     "start_time": "2022-12-07T22:25:19.643022",
     "status": "completed"
    },
    "tags": []
   },
   "outputs": [
    {
     "name": "stdout",
     "output_type": "stream",
     "text": [
      "Median Absolute Error Value is :  350.6274913244224\n"
     ]
    }
   ],
   "source": [
    "MdSEValue = median_absolute_error(y_test, y_pred)\n",
    "print('Median Absolute Error Value is : ', MdSEValue )"
   ]
  },
  {
   "cell_type": "markdown",
   "id": "5a3a0fdd",
   "metadata": {
    "papermill": {
     "duration": 0.018522,
     "end_time": "2022-12-07T22:25:20.402088",
     "exception": false,
     "start_time": "2022-12-07T22:25:20.383566",
     "status": "completed"
    },
    "tags": []
   },
   "source": [
    "# predict test_data"
   ]
  },
  {
   "cell_type": "code",
   "execution_count": 38,
   "id": "842629b9",
   "metadata": {
    "execution": {
     "iopub.execute_input": "2022-12-07T22:25:20.441814Z",
     "iopub.status.busy": "2022-12-07T22:25:20.441266Z",
     "iopub.status.idle": "2022-12-07T22:25:20.504099Z",
     "shell.execute_reply": "2022-12-07T22:25:20.503330Z"
    },
    "papermill": {
     "duration": 0.085619,
     "end_time": "2022-12-07T22:25:20.506378",
     "exception": false,
     "start_time": "2022-12-07T22:25:20.420759",
     "status": "completed"
    },
    "tags": []
   },
   "outputs": [],
   "source": [
    "y_test=RandomForestRegressorModel.predict(test_data)"
   ]
  },
  {
   "cell_type": "code",
   "execution_count": 39,
   "id": "5833b4b5",
   "metadata": {},
   "outputs": [
    {
     "data": {
      "text/plain": [
       "492"
      ]
     },
     "execution_count": 39,
     "metadata": {},
     "output_type": "execute_result"
    }
   ],
   "source": [
    "len(test_data)"
   ]
  },
  {
   "cell_type": "code",
   "execution_count": 40,
   "id": "9c06d640",
   "metadata": {},
   "outputs": [
    {
     "name": "stdout",
     "output_type": "stream",
     "text": [
      "result : [ 8628.40619902 10431.39959098 12207.61864124 10611.77595207\n",
      " 40599.55462437  9800.97162193 10844.9369128  10205.91268904\n",
      "  3179.71997522 13056.95664543  5844.27491914  6781.792608\n",
      "  9480.60522629  5588.44390071  2470.69744614  6394.23236092\n",
      "  3744.64811032 15030.58662573 13953.1249603   7240.22503402\n",
      "  9810.3205873  13849.20891902 34078.90701911 12978.16290885\n",
      " 12727.30895203 13072.68168338 12528.36126679  9406.66174885\n",
      "  8236.08786786 12577.48581145  4096.78406696 10533.80616531\n",
      "  5218.6279105  11117.56547902  3980.206437    8283.30826733\n",
      " 28060.29614702  6073.53343012  7844.97868152  4402.30287383\n",
      " 33149.83302821  8045.93551509 11619.75269937  9589.41260193\n",
      "  9466.9555936   6334.11425045 13632.40249093  8221.77037064\n",
      " 11582.55186601 33434.87346615 10176.60652404  7797.79671687\n",
      " 13444.95756673  7496.2026334  14031.53249568  3565.34787863\n",
      " 13202.11701259 15350.65931777  9259.56430119 10859.07740259\n",
      " 15425.78787062  7239.45182445 35620.50271173  6498.54329605\n",
      "  7119.90987014 14283.95886516  7721.86422873 10117.16013267\n",
      "  9736.9922895   7552.06862706 10040.01031806 15353.0911846\n",
      "  7534.50980126  5095.65346618  9204.77562118 10968.21373177\n",
      " 28229.27728262 13793.18089207 10066.25671965  1999.29576374\n",
      " 12979.33326747 28509.42526474  9237.40097379  8532.53508992\n",
      "  9306.643937    4460.48135358 12286.87579261  8323.95096379\n",
      " 15212.57517244 12333.24626235 13291.54737291 33592.8493933\n",
      "  9140.40252032  9712.20297135  2001.17999944  1054.32642333\n",
      "  3186.0180583   9874.21760558 35458.06045793  3550.72424654\n",
      "  6346.46953969 10478.15682004  1224.09150918  8335.66754608\n",
      " 10072.89252866  3786.30470708  6152.65413973  6558.271172\n",
      "  8480.37589168 13255.74835759  6517.65184664 32389.14234269\n",
      "  9621.13982185 10799.08998963 11760.8009311   5655.36977446\n",
      "  9460.3569763   4734.77413734  1570.75989663 32710.81433066\n",
      "  7173.13640255 12311.94622941  9852.90399091  7843.5595769\n",
      " 11143.73367617  7901.37177954 10724.39763197  9631.63400761\n",
      " 29162.50113418  8542.4938522   7059.38849682   608.84779937\n",
      "  7748.48406518 13700.94314813 10881.7054001   4996.7292594\n",
      " 12030.97848017 10205.45586417 10978.47813299 13122.62021912\n",
      " 33607.99993211 12879.30643135 16888.98402268  9848.15323569\n",
      "  6756.02189536  9012.00522666  5747.79957452 12316.12940766\n",
      "  9341.20439161 38173.24957882  2505.51487822 10972.49711234\n",
      "  9533.28359445 31391.6181947   9749.08664823  2050.08419262\n",
      "  5394.90909902  3083.06173541  8412.04024836 38068.04991832\n",
      "  6325.94078573 11138.88785934  2973.040783     111.88996146\n",
      " 23541.35401306 13354.65587427  7505.67852658  6460.05653892\n",
      " 11181.95265482 12721.49766626  8109.80587595 12983.23399781\n",
      " 13583.93811296 12539.64463678  9347.23270384  6830.3543695\n",
      "  5397.30436101  5638.42804569 11401.1576258    333.13426125\n",
      "  5728.82964654  8034.63870292 31242.54712679 30573.90362516\n",
      "  7265.03298287  1357.30566173 14862.39469427  9512.29124842\n",
      "  7622.31920607 18006.93518974  6252.42603469  9794.75392866\n",
      " 34291.74097737  5889.26992196  4403.74855569  4606.44901444\n",
      "  8700.72882045  8756.87839168 31558.10402698  9329.84291972\n",
      "  4655.05040311  6225.72687026 14660.02282434  9055.83934806\n",
      " 36015.13532019 12574.01016741  8415.33295398  9467.15648626\n",
      " 29911.73750245  9095.91488702  9619.94339703  4874.68192455\n",
      "  5895.18812739 12907.21239738 27079.20450316 12768.17990958\n",
      "  3782.30620087  9827.1502531  11746.2380529   8935.42990191\n",
      "  5760.77221425 12737.3123035  31114.26844267 10175.78648197\n",
      "  8179.96876315 12285.79164792 40775.76607087 28766.40849383\n",
      " 10937.44946644  6211.64720664  3398.47871732  8445.40995652\n",
      "  8887.009723   11393.95734483  7601.15692305  8260.27516039\n",
      " 10435.87410071  9056.39307124 13093.56362291 38986.93930193\n",
      " 35646.18201021  2126.34400793 10225.48518461 13394.85372036\n",
      " 10070.01521513 13950.62401135 11497.51797353 11101.05370482\n",
      " 16971.97194046 28425.90440578 11280.20614575 12988.41103518\n",
      " 28809.56439924  5738.09754917 13794.22621065  9427.36133848\n",
      " 25946.42303013  5009.6971656  30070.17345624 29738.8849851\n",
      "  5539.75817513  5808.33166901  4826.30506807 29828.71899617\n",
      " 11420.58599144 -1340.67782081  5499.21679845  7286.84356813\n",
      " 10171.53535059 16277.71624178  8633.01169782 10822.79181712\n",
      "  8589.80845121  2493.58627262  8240.82903891 14163.38787887\n",
      "  5548.95595503  3968.79648694  5260.12619605  8633.2232836\n",
      " 12860.47202462  8033.19735002 25752.73236605  8952.92758578\n",
      " 10929.51565252 33684.70844066  7497.81035779  9719.78080114\n",
      " 12056.16566808 14000.22378562 10464.65510936 11905.91037881\n",
      " 37199.37923657  8115.38518207 11297.85879745  5659.46082976\n",
      "  6775.31094857  7661.11409719 15272.90165443 28805.69295649\n",
      " 13338.60395959  6461.17572545  6670.17406193  9456.54059993\n",
      " 15179.87291538  5707.80063789 32577.60971936  8388.57674296\n",
      "  6881.17239094  7059.15126818 12328.24828138  5857.47550628\n",
      "  6953.22983804 12239.95100028 11130.3092086   8934.48926403\n",
      " 12485.77192545 11195.60068802  5686.4110737   8888.70296602\n",
      " 10607.34087424 16014.70042706  5737.46785791  3993.93487317\n",
      "  7684.00341082  5197.60226918 14487.66900611 27728.53125213\n",
      "  7830.49453638 11547.44465604  9461.17102677 14444.18462896\n",
      " 11683.00617157 39829.04432175  6351.18965237 11265.30936838\n",
      "  7297.98723256  4127.39455298 13136.12312449 15281.59179842\n",
      " 11191.0453516  14862.75299432 28365.85036859 12715.94343876\n",
      " 13183.46801584  6818.14062915 12358.28020799  5637.89225223\n",
      "  8916.05250732  6304.86617846 15126.36601684  8741.2361901\n",
      "  8403.05019235  8516.89083778 38912.38222151 12217.4213875\n",
      "  8363.42565254 12606.29345103  7723.92447093  2122.94046753\n",
      " 12517.61532446 12980.05510941  8353.45397649  6056.17922305\n",
      " 10775.95145673  7316.04329933  6608.50604437  2136.01499245\n",
      " 11161.16803181  7880.24876042 10478.98719952  6572.47229231\n",
      " 37537.10492473  5735.14332372 11803.83484127  8643.53804046\n",
      "  7483.44564982  3393.5374159   4997.36523587 31998.13010314\n",
      " 14757.27947321 13805.64655807 13677.59225755  7847.14148094\n",
      "  7089.4818311   2985.25340778  5879.78851663  3167.66512143\n",
      " 14544.91673564  6811.6742711  13271.12858361 13905.36070101\n",
      " 14429.85006236 14500.70994284 10485.19579185 16933.98599908\n",
      "  8575.25621453 12611.93944939 11121.95802716 15782.55318822\n",
      "  7773.04307939  2509.75597989 12048.20910744  4922.73394879\n",
      " 16978.07036221 29807.81617995 13257.96580681 14594.87050682\n",
      " 11810.81134027  8054.07876466 18402.44019715 14835.46392607\n",
      "  8122.581859   14090.73132613 14013.56892532 16336.78694649\n",
      "  5808.81399191 11573.50810446 13160.68739607  8735.21397039\n",
      "  9159.88867584 36336.55654019 14485.018322   32983.25982389\n",
      " 38967.12004054 10900.27060479 11699.88525795  9367.71218553\n",
      " 12719.91859539   196.37667712 12381.69621205  6439.76564331\n",
      "  9349.9144792  33581.42011264  8560.87343254 19396.05750903\n",
      " 30658.90861516 14187.21443146  6264.07941518  7604.7820971\n",
      "  7440.62384497  2095.06964364 10517.61594227 12658.05493985\n",
      " 10205.73308273  9224.09523304  5354.69026752 10475.12289028\n",
      "  5107.20586739 29158.7152697   2853.26227267 11118.38792448\n",
      "  7579.88757405 10893.16272335 14649.09220409 10058.40659021\n",
      " 35650.22432387  5971.88577406  9128.35392991  7114.69147168\n",
      " 24770.57537344 11137.58320174 10370.74779078  8935.77287825\n",
      " 11298.89399987 11227.18006387 16833.26288041 31182.98509768\n",
      " 10760.27548917 17389.22415622  8712.57795621 31957.02619251\n",
      " 29108.80453959 13573.39633537  6462.77137316  9620.69342216\n",
      " 27955.97341941 18075.38239264  5431.60809064 34386.41318961\n",
      " 14258.97438074 11578.84863965  7939.3911861  12613.67392974\n",
      " 11740.14920951 13245.71424094  6232.41583761 12008.27973473\n",
      " 12323.66917299 13381.64982724  8332.26125537 31953.48128178]\n"
     ]
    }
   ],
   "source": [
    "value = LinearRegressionModel.predict(test_data)\n",
    "print(\"result : \"+str(value))"
   ]
  },
  {
   "cell_type": "markdown",
   "id": "58911a8c",
   "metadata": {
    "papermill": {
     "duration": 0.019222,
     "end_time": "2022-12-07T22:25:20.544914",
     "exception": false,
     "start_time": "2022-12-07T22:25:20.525692",
     "status": "completed"
    },
    "tags": []
   },
   "source": [
    "# transform y_test into csv"
   ]
  },
  {
   "cell_type": "code",
   "execution_count": 41,
   "id": "7f5adb0d",
   "metadata": {
    "execution": {
     "iopub.execute_input": "2022-12-07T22:25:20.585381Z",
     "iopub.status.busy": "2022-12-07T22:25:20.584818Z",
     "iopub.status.idle": "2022-12-07T22:25:20.600208Z",
     "shell.execute_reply": "2022-12-07T22:25:20.599118Z"
    },
    "papermill": {
     "duration": 0.038376,
     "end_time": "2022-12-07T22:25:20.602743",
     "exception": false,
     "start_time": "2022-12-07T22:25:20.564367",
     "status": "completed"
    },
    "tags": []
   },
   "outputs": [
    {
     "data": {
      "text/html": [
       "<div>\n",
       "<style scoped>\n",
       "    .dataframe tbody tr th:only-of-type {\n",
       "        vertical-align: middle;\n",
       "    }\n",
       "\n",
       "    .dataframe tbody tr th {\n",
       "        vertical-align: top;\n",
       "    }\n",
       "\n",
       "    .dataframe thead th {\n",
       "        text-align: right;\n",
       "    }\n",
       "</style>\n",
       "<table border=\"1\" class=\"dataframe\">\n",
       "  <thead>\n",
       "    <tr style=\"text-align: right;\">\n",
       "      <th></th>\n",
       "      <th>prediction</th>\n",
       "    </tr>\n",
       "  </thead>\n",
       "  <tbody>\n",
       "    <tr>\n",
       "      <th>0</th>\n",
       "      <td>7238.994629</td>\n",
       "    </tr>\n",
       "    <tr>\n",
       "      <th>1</th>\n",
       "      <td>9520.821647</td>\n",
       "    </tr>\n",
       "    <tr>\n",
       "      <th>2</th>\n",
       "      <td>13113.147668</td>\n",
       "    </tr>\n",
       "    <tr>\n",
       "      <th>3</th>\n",
       "      <td>6853.140999</td>\n",
       "    </tr>\n",
       "    <tr>\n",
       "      <th>4</th>\n",
       "      <td>40293.073260</td>\n",
       "    </tr>\n",
       "    <tr>\n",
       "      <th>...</th>\n",
       "      <td>...</td>\n",
       "    </tr>\n",
       "    <tr>\n",
       "      <th>487</th>\n",
       "      <td>16315.884555</td>\n",
       "    </tr>\n",
       "    <tr>\n",
       "      <th>488</th>\n",
       "      <td>6662.828702</td>\n",
       "    </tr>\n",
       "    <tr>\n",
       "      <th>489</th>\n",
       "      <td>12656.298580</td>\n",
       "    </tr>\n",
       "    <tr>\n",
       "      <th>490</th>\n",
       "      <td>9416.598946</td>\n",
       "    </tr>\n",
       "    <tr>\n",
       "      <th>491</th>\n",
       "      <td>38613.861787</td>\n",
       "    </tr>\n",
       "  </tbody>\n",
       "</table>\n",
       "<p>492 rows × 1 columns</p>\n",
       "</div>"
      ],
      "text/plain": [
       "       prediction\n",
       "0     7238.994629\n",
       "1     9520.821647\n",
       "2    13113.147668\n",
       "3     6853.140999\n",
       "4    40293.073260\n",
       "..            ...\n",
       "487  16315.884555\n",
       "488   6662.828702\n",
       "489  12656.298580\n",
       "490   9416.598946\n",
       "491  38613.861787\n",
       "\n",
       "[492 rows x 1 columns]"
      ]
     },
     "execution_count": 41,
     "metadata": {},
     "output_type": "execute_result"
    }
   ],
   "source": [
    "submision=pd.DataFrame(y_test,columns=['prediction'])\n",
    "submision.to_csv('prediction.csv')\n",
    "submision"
   ]
  },
  {
   "cell_type": "code",
   "execution_count": null,
   "id": "a1dfee83",
   "metadata": {},
   "outputs": [],
   "source": []
  },
  {
   "cell_type": "code",
   "execution_count": 43,
   "id": "ecc5367a",
   "metadata": {},
   "outputs": [
    {
     "data": {
      "text/html": [
       "<a href='sample_data1.csv' target='_blank'>sample_data1.csv</a><br>"
      ],
      "text/plain": [
       "C:\\Users\\vega ramesh\\Desktop\\project today\\Medical _insurance_charges\\sample_data1.csv"
      ]
     },
     "metadata": {},
     "output_type": "display_data"
    }
   ],
   "source": [
    "from IPython.display import FileLink\n",
    "\n",
    "# Create a sample DataFrame (replace this with your data)\n",
    "\n",
    "# Save the DataFrame to a CSV file\n",
    "csv_filename = 'sample_data1.csv'\n",
    "X.to_csv(csv_filename, index=False)\n",
    "\n",
    "# Display a link to download the CSV file\n",
    "display(FileLink(csv_filename))"
   ]
  },
  {
   "cell_type": "code",
   "execution_count": 46,
   "id": "c8109bf0",
   "metadata": {},
   "outputs": [
    {
     "ename": "SyntaxError",
     "evalue": "(unicode error) 'unicodeescape' codec can't decode bytes in position 2-3: truncated \\UXXXXXXXX escape (<ipython-input-46-a3f062aea097>, line 4)",
     "output_type": "error",
     "traceback": [
      "\u001b[1;36m  File \u001b[1;32m\"<ipython-input-46-a3f062aea097>\"\u001b[1;36m, line \u001b[1;32m4\u001b[0m\n\u001b[1;33m    file_path = 'C:\\Users\\vega ramesh\\Downloads\\sample_data1 (2).csv'\u001b[0m\n\u001b[1;37m               ^\u001b[0m\n\u001b[1;31mSyntaxError\u001b[0m\u001b[1;31m:\u001b[0m (unicode error) 'unicodeescape' codec can't decode bytes in position 2-3: truncated \\UXXXXXXXX escape\n"
     ]
    }
   ],
   "source": [
    "import pandas as pd\n",
    "\n",
    "# Replace 'your_file_path' with the actual path to your CSV file\n",
    "file_path = 'C:\\Users\\vega ramesh\\Downloads\\sample_data1 (2).csv'\n",
    "delimiter = ';'  # Replace ';' with the actual delimiter used in your CSV file\n",
    "\n",
    "# Read the CSV file using pandas\n",
    "data_frame = pd.read_csv(file_path, delimiter=delimiter)\n",
    "data_frame\n"
   ]
  },
  {
   "cell_type": "code",
   "execution_count": 1,
   "id": "36803a3b",
   "metadata": {},
   "outputs": [
    {
     "name": "stdout",
     "output_type": "stream",
     "text": [
      "Confusion Matrix:\n",
      "[[3 2]\n",
      " [1 4]]\n",
      "\n",
      "Accuracy: 0.7\n",
      "Precision: 0.75\n",
      "Recall: 0.6\n",
      "F1-Score: 0.6666666666666665\n"
     ]
    }
   ],
   "source": [
    "from sklearn.metrics import confusion_matrix, accuracy_score, precision_score, recall_score, f1_score\n",
    "\n",
    "# Actual class labels\n",
    "actual = [\"Cat\", \"Cat\", \"Dog\", \"Cat\", \"Dog\", \"Dog\", \"Cat\", \"Dog\", \"Cat\", \"Dog\"]\n",
    "\n",
    "# Predicted class labels by your model\n",
    "predicted = [\"Cat\", \"Dog\", \"Dog\", \"Cat\", \"Dog\", \"Dog\", \"Cat\", \"Cat\", \"Dog\", \"Dog\"]\n",
    "\n",
    "# Create a confusion matrix\n",
    "cm = confusion_matrix(actual, predicted, labels=[\"Cat\", \"Dog\"])\n",
    "\n",
    "# Calculate metrics\n",
    "accuracy = accuracy_score(actual, predicted)\n",
    "precision = precision_score(actual, predicted, pos_label=\"Cat\")\n",
    "recall = recall_score(actual, predicted, pos_label=\"Cat\")\n",
    "f1 = f1_score(actual, predicted, pos_label=\"Cat\")\n",
    "\n",
    "print(\"Confusion Matrix:\")\n",
    "print(cm)\n",
    "print(\"\\nAccuracy:\", accuracy)\n",
    "print(\"Precision:\", precision)\n",
    "print(\"Recall:\", recall)\n",
    "print(\"F1-Score:\", f1)\n"
   ]
  },
  {
   "cell_type": "code",
   "execution_count": null,
   "id": "ce755c37",
   "metadata": {},
   "outputs": [],
   "source": []
  }
 ],
 "metadata": {
  "kernelspec": {
   "display_name": "Python 3",
   "language": "python",
   "name": "python3"
  },
  "language_info": {
   "codemirror_mode": {
    "name": "ipython",
    "version": 3
   },
   "file_extension": ".py",
   "mimetype": "text/x-python",
   "name": "python",
   "nbconvert_exporter": "python",
   "pygments_lexer": "ipython3",
   "version": "3.6.2"
  },
  "papermill": {
   "default_parameters": {},
   "duration": 17.344382,
   "end_time": "2022-12-07T22:25:21.443746",
   "environment_variables": {},
   "exception": null,
   "input_path": "__notebook__.ipynb",
   "output_path": "__notebook__.ipynb",
   "parameters": {},
   "start_time": "2022-12-07T22:25:04.099364",
   "version": "2.3.4"
  }
 },
 "nbformat": 4,
 "nbformat_minor": 5
}
